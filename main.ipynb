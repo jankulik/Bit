{
  "cells": [
    {
      "cell_type": "code",
      "execution_count": 1,
      "metadata": {
        "id": "Y8WVhcE9FlOh"
      },
      "outputs": [],
      "source": [
        "!pip install -q seaborn"
      ]
    },
    {
      "cell_type": "code",
      "execution_count": 158,
      "metadata": {
        "id": "-vlVSPYwFe_U"
      },
      "outputs": [],
      "source": [
        "import tensorflow as tf\n",
        "from tensorflow import keras\n",
        "from tensorflow.keras import layers\n",
        "from tensorflow.keras import regularizers\n",
        "\n",
        "import matplotlib.pyplot as plt\n",
        "import numpy as np\n",
        "import pandas as pd\n",
        "import seaborn as sns\n",
        "\n",
        "pd.set_option('display.max_columns', None)"
      ]
    },
    {
      "cell_type": "code",
      "execution_count": 159,
      "metadata": {
        "id": "heQY8DRmE3zb"
      },
      "outputs": [],
      "source": [
        "dataset = pd.read_csv(\"drive/MyDrive/Bit/BIT_AI_assignment_data.csv\",\n",
        "                         index_col=0,\n",
        "                         dtype={'datasource': 'string',\n",
        "                                'Model Series': 'string',\n",
        "                                'Couple System': 'string',\n",
        "                                'Grouser Tracks': 'string',\n",
        "                                'Hydraulics Flow': 'string'})"
      ]
    },
    {
      "cell_type": "code",
      "source": [
        "dataset = dataset.dropna(subset=[\"Sales Price\"])\n",
        "dataset = dataset.drop(columns=['Sales ID', 'Machine ID', 'Model ID', 'Sales date'])"
      ],
      "metadata": {
        "id": "_MjaAN6hdFcJ"
      },
      "execution_count": 160,
      "outputs": []
    },
    {
      "cell_type": "code",
      "source": [
        "continuous_columns = [\"Sales Price\", \"Year Made\", \"MachineHours CurrentMeter\"]\n",
        "categorical_columns = [column for column in dataset.columns if column not in continuous_columns]"
      ],
      "metadata": {
        "id": "x4qfHHdWcOYs"
      },
      "execution_count": 161,
      "outputs": []
    },
    {
      "cell_type": "code",
      "source": [
        "dataset[categorical_columns] = dataset[categorical_columns].where(pd.notnull(dataset[categorical_columns]), \"None or Unspecified\")\n",
        "dataset = dataset.replace(\"#NAME?\", \"None or Unspecified\")"
      ],
      "metadata": {
        "id": "pAIyhkOwddhy"
      },
      "execution_count": 162,
      "outputs": []
    },
    {
      "cell_type": "code",
      "source": [
        "dataset.describe().transpose()"
      ],
      "metadata": {
        "colab": {
          "base_uri": "https://localhost:8080/",
          "height": 143
        },
        "id": "bIuR0JghiB7-",
        "outputId": "113bff2a-996b-4bf4-b01a-cfd6874d15b0"
      },
      "execution_count": 163,
      "outputs": [
        {
          "output_type": "execute_result",
          "data": {
            "text/plain": [
              "                              count          mean           std     min  \\\n",
              "Sales Price                412698.0  31215.181414  23141.743695  4750.0   \n",
              "Year Made                  412698.0   1899.049637    292.190243  1000.0   \n",
              "MachineHours CurrentMeter  147504.0   3522.988285  27169.928650     0.0   \n",
              "\n",
              "                               25%      50%      75%        max  \n",
              "Sales Price                14500.0  24000.0  40000.0   142000.0  \n",
              "Year Made                   1985.0   1995.0   2001.0     2014.0  \n",
              "MachineHours CurrentMeter      0.0      0.0   3209.0  2483300.0  "
            ],
            "text/html": [
              "\n",
              "  <div id=\"df-ce9e22eb-1b41-4576-bb62-d66d146cb8e3\">\n",
              "    <div class=\"colab-df-container\">\n",
              "      <div>\n",
              "<style scoped>\n",
              "    .dataframe tbody tr th:only-of-type {\n",
              "        vertical-align: middle;\n",
              "    }\n",
              "\n",
              "    .dataframe tbody tr th {\n",
              "        vertical-align: top;\n",
              "    }\n",
              "\n",
              "    .dataframe thead th {\n",
              "        text-align: right;\n",
              "    }\n",
              "</style>\n",
              "<table border=\"1\" class=\"dataframe\">\n",
              "  <thead>\n",
              "    <tr style=\"text-align: right;\">\n",
              "      <th></th>\n",
              "      <th>count</th>\n",
              "      <th>mean</th>\n",
              "      <th>std</th>\n",
              "      <th>min</th>\n",
              "      <th>25%</th>\n",
              "      <th>50%</th>\n",
              "      <th>75%</th>\n",
              "      <th>max</th>\n",
              "    </tr>\n",
              "  </thead>\n",
              "  <tbody>\n",
              "    <tr>\n",
              "      <th>Sales Price</th>\n",
              "      <td>412698.0</td>\n",
              "      <td>31215.181414</td>\n",
              "      <td>23141.743695</td>\n",
              "      <td>4750.0</td>\n",
              "      <td>14500.0</td>\n",
              "      <td>24000.0</td>\n",
              "      <td>40000.0</td>\n",
              "      <td>142000.0</td>\n",
              "    </tr>\n",
              "    <tr>\n",
              "      <th>Year Made</th>\n",
              "      <td>412698.0</td>\n",
              "      <td>1899.049637</td>\n",
              "      <td>292.190243</td>\n",
              "      <td>1000.0</td>\n",
              "      <td>1985.0</td>\n",
              "      <td>1995.0</td>\n",
              "      <td>2001.0</td>\n",
              "      <td>2014.0</td>\n",
              "    </tr>\n",
              "    <tr>\n",
              "      <th>MachineHours CurrentMeter</th>\n",
              "      <td>147504.0</td>\n",
              "      <td>3522.988285</td>\n",
              "      <td>27169.928650</td>\n",
              "      <td>0.0</td>\n",
              "      <td>0.0</td>\n",
              "      <td>0.0</td>\n",
              "      <td>3209.0</td>\n",
              "      <td>2483300.0</td>\n",
              "    </tr>\n",
              "  </tbody>\n",
              "</table>\n",
              "</div>\n",
              "      <button class=\"colab-df-convert\" onclick=\"convertToInteractive('df-ce9e22eb-1b41-4576-bb62-d66d146cb8e3')\"\n",
              "              title=\"Convert this dataframe to an interactive table.\"\n",
              "              style=\"display:none;\">\n",
              "        \n",
              "  <svg xmlns=\"http://www.w3.org/2000/svg\" height=\"24px\"viewBox=\"0 0 24 24\"\n",
              "       width=\"24px\">\n",
              "    <path d=\"M0 0h24v24H0V0z\" fill=\"none\"/>\n",
              "    <path d=\"M18.56 5.44l.94 2.06.94-2.06 2.06-.94-2.06-.94-.94-2.06-.94 2.06-2.06.94zm-11 1L8.5 8.5l.94-2.06 2.06-.94-2.06-.94L8.5 2.5l-.94 2.06-2.06.94zm10 10l.94 2.06.94-2.06 2.06-.94-2.06-.94-.94-2.06-.94 2.06-2.06.94z\"/><path d=\"M17.41 7.96l-1.37-1.37c-.4-.4-.92-.59-1.43-.59-.52 0-1.04.2-1.43.59L10.3 9.45l-7.72 7.72c-.78.78-.78 2.05 0 2.83L4 21.41c.39.39.9.59 1.41.59.51 0 1.02-.2 1.41-.59l7.78-7.78 2.81-2.81c.8-.78.8-2.07 0-2.86zM5.41 20L4 18.59l7.72-7.72 1.47 1.35L5.41 20z\"/>\n",
              "  </svg>\n",
              "      </button>\n",
              "      \n",
              "  <style>\n",
              "    .colab-df-container {\n",
              "      display:flex;\n",
              "      flex-wrap:wrap;\n",
              "      gap: 12px;\n",
              "    }\n",
              "\n",
              "    .colab-df-convert {\n",
              "      background-color: #E8F0FE;\n",
              "      border: none;\n",
              "      border-radius: 50%;\n",
              "      cursor: pointer;\n",
              "      display: none;\n",
              "      fill: #1967D2;\n",
              "      height: 32px;\n",
              "      padding: 0 0 0 0;\n",
              "      width: 32px;\n",
              "    }\n",
              "\n",
              "    .colab-df-convert:hover {\n",
              "      background-color: #E2EBFA;\n",
              "      box-shadow: 0px 1px 2px rgba(60, 64, 67, 0.3), 0px 1px 3px 1px rgba(60, 64, 67, 0.15);\n",
              "      fill: #174EA6;\n",
              "    }\n",
              "\n",
              "    [theme=dark] .colab-df-convert {\n",
              "      background-color: #3B4455;\n",
              "      fill: #D2E3FC;\n",
              "    }\n",
              "\n",
              "    [theme=dark] .colab-df-convert:hover {\n",
              "      background-color: #434B5C;\n",
              "      box-shadow: 0px 1px 3px 1px rgba(0, 0, 0, 0.15);\n",
              "      filter: drop-shadow(0px 1px 2px rgba(0, 0, 0, 0.3));\n",
              "      fill: #FFFFFF;\n",
              "    }\n",
              "  </style>\n",
              "\n",
              "      <script>\n",
              "        const buttonEl =\n",
              "          document.querySelector('#df-ce9e22eb-1b41-4576-bb62-d66d146cb8e3 button.colab-df-convert');\n",
              "        buttonEl.style.display =\n",
              "          google.colab.kernel.accessAllowed ? 'block' : 'none';\n",
              "\n",
              "        async function convertToInteractive(key) {\n",
              "          const element = document.querySelector('#df-ce9e22eb-1b41-4576-bb62-d66d146cb8e3');\n",
              "          const dataTable =\n",
              "            await google.colab.kernel.invokeFunction('convertToInteractive',\n",
              "                                                     [key], {});\n",
              "          if (!dataTable) return;\n",
              "\n",
              "          const docLinkHtml = 'Like what you see? Visit the ' +\n",
              "            '<a target=\"_blank\" href=https://colab.research.google.com/notebooks/data_table.ipynb>data table notebook</a>'\n",
              "            + ' to learn more about interactive tables.';\n",
              "          element.innerHTML = '';\n",
              "          dataTable['output_type'] = 'display_data';\n",
              "          await google.colab.output.renderOutput(dataTable, element);\n",
              "          const docLink = document.createElement('div');\n",
              "          docLink.innerHTML = docLinkHtml;\n",
              "          element.appendChild(docLink);\n",
              "        }\n",
              "      </script>\n",
              "    </div>\n",
              "  </div>\n",
              "  "
            ]
          },
          "metadata": {},
          "execution_count": 163
        }
      ]
    },
    {
      "cell_type": "code",
      "execution_count": 164,
      "metadata": {
        "colab": {
          "base_uri": "https://localhost:8080/"
        },
        "id": "XgIgn7lpc94o",
        "outputId": "0de0509e-35ba-4535-93de-27e804b3a03a"
      },
      "outputs": [
        {
          "output_type": "execute_result",
          "data": {
            "text/plain": [
              "39391"
            ]
          },
          "metadata": {},
          "execution_count": 164
        }
      ],
      "source": [
        "dataset['Year Made'].value_counts()[1000]"
      ]
    },
    {
      "cell_type": "code",
      "source": [
        "dataset[\"Year Made\"] = dataset[\"Year Made\"].replace(1000, np.nan)"
      ],
      "metadata": {
        "id": "7PlLKPbuatI-"
      },
      "execution_count": 165,
      "outputs": []
    },
    {
      "cell_type": "code",
      "source": [
        "dataset.shape"
      ],
      "metadata": {
        "colab": {
          "base_uri": "https://localhost:8080/"
        },
        "id": "7k4LxLBDi9We",
        "outputId": "3a171c9f-283c-4a21-bf69-836d774d36a1"
      },
      "execution_count": 166,
      "outputs": [
        {
          "output_type": "execute_result",
          "data": {
            "text/plain": [
              "(412698, 49)"
            ]
          },
          "metadata": {},
          "execution_count": 166
        }
      ]
    },
    {
      "cell_type": "code",
      "source": [
        "def remove_outliers(dataset, columns):\n",
        "  max_zscore = 10\n",
        "  def zscore(x):\n",
        "    return np.abs((x - x.mean()) / x.std())\n",
        "\n",
        "  for column in columns:\n",
        "    dataset = dataset[np.logical_or(zscore(dataset[column]) < max_zscore, np.isnan(dataset[column]))]\n",
        "  \n",
        "  return dataset"
      ],
      "metadata": {
        "id": "87q4aRxeohK7"
      },
      "execution_count": 167,
      "outputs": []
    },
    {
      "cell_type": "code",
      "source": [
        "dataset = remove_outliers(dataset, [\"Year Made\", \"MachineHours CurrentMeter\"])"
      ],
      "metadata": {
        "id": "Z5bZRGWIjQYd"
      },
      "execution_count": 168,
      "outputs": []
    },
    {
      "cell_type": "code",
      "source": [
        "dataset.shape"
      ],
      "metadata": {
        "colab": {
          "base_uri": "https://localhost:8080/"
        },
        "id": "wUnPS1nYk11X",
        "outputId": "2e5faf0f-bd45-4b29-8369-9b262df637bc"
      },
      "execution_count": 169,
      "outputs": [
        {
          "output_type": "execute_result",
          "data": {
            "text/plain": [
              "(412482, 49)"
            ]
          },
          "metadata": {},
          "execution_count": 169
        }
      ]
    },
    {
      "cell_type": "code",
      "source": [
        "dataset.describe().transpose()"
      ],
      "metadata": {
        "colab": {
          "base_uri": "https://localhost:8080/",
          "height": 143
        },
        "id": "4MjL6ME5k8Tr",
        "outputId": "99d8ec1d-0238-4f6f-a4f3-478d0329ed75"
      },
      "execution_count": 170,
      "outputs": [
        {
          "output_type": "execute_result",
          "data": {
            "text/plain": [
              "                              count          mean           std     min  \\\n",
              "Sales Price                412482.0  31215.564289  23141.337055  4750.0   \n",
              "Year Made                  373136.0   1993.914251      9.689573  1919.0   \n",
              "MachineHours CurrentMeter  147288.0   2672.779697   8348.926282     0.0   \n",
              "\n",
              "                               25%      50%      75%       max  \n",
              "Sales Price                14500.0  24000.0  40000.0  142000.0  \n",
              "Year Made                   1988.0   1996.0   2001.0    2014.0  \n",
              "MachineHours CurrentMeter      0.0      0.0   3192.0  274900.0  "
            ],
            "text/html": [
              "\n",
              "  <div id=\"df-3e19ada4-c89a-4dca-bc61-8599147b8e8a\">\n",
              "    <div class=\"colab-df-container\">\n",
              "      <div>\n",
              "<style scoped>\n",
              "    .dataframe tbody tr th:only-of-type {\n",
              "        vertical-align: middle;\n",
              "    }\n",
              "\n",
              "    .dataframe tbody tr th {\n",
              "        vertical-align: top;\n",
              "    }\n",
              "\n",
              "    .dataframe thead th {\n",
              "        text-align: right;\n",
              "    }\n",
              "</style>\n",
              "<table border=\"1\" class=\"dataframe\">\n",
              "  <thead>\n",
              "    <tr style=\"text-align: right;\">\n",
              "      <th></th>\n",
              "      <th>count</th>\n",
              "      <th>mean</th>\n",
              "      <th>std</th>\n",
              "      <th>min</th>\n",
              "      <th>25%</th>\n",
              "      <th>50%</th>\n",
              "      <th>75%</th>\n",
              "      <th>max</th>\n",
              "    </tr>\n",
              "  </thead>\n",
              "  <tbody>\n",
              "    <tr>\n",
              "      <th>Sales Price</th>\n",
              "      <td>412482.0</td>\n",
              "      <td>31215.564289</td>\n",
              "      <td>23141.337055</td>\n",
              "      <td>4750.0</td>\n",
              "      <td>14500.0</td>\n",
              "      <td>24000.0</td>\n",
              "      <td>40000.0</td>\n",
              "      <td>142000.0</td>\n",
              "    </tr>\n",
              "    <tr>\n",
              "      <th>Year Made</th>\n",
              "      <td>373136.0</td>\n",
              "      <td>1993.914251</td>\n",
              "      <td>9.689573</td>\n",
              "      <td>1919.0</td>\n",
              "      <td>1988.0</td>\n",
              "      <td>1996.0</td>\n",
              "      <td>2001.0</td>\n",
              "      <td>2014.0</td>\n",
              "    </tr>\n",
              "    <tr>\n",
              "      <th>MachineHours CurrentMeter</th>\n",
              "      <td>147288.0</td>\n",
              "      <td>2672.779697</td>\n",
              "      <td>8348.926282</td>\n",
              "      <td>0.0</td>\n",
              "      <td>0.0</td>\n",
              "      <td>0.0</td>\n",
              "      <td>3192.0</td>\n",
              "      <td>274900.0</td>\n",
              "    </tr>\n",
              "  </tbody>\n",
              "</table>\n",
              "</div>\n",
              "      <button class=\"colab-df-convert\" onclick=\"convertToInteractive('df-3e19ada4-c89a-4dca-bc61-8599147b8e8a')\"\n",
              "              title=\"Convert this dataframe to an interactive table.\"\n",
              "              style=\"display:none;\">\n",
              "        \n",
              "  <svg xmlns=\"http://www.w3.org/2000/svg\" height=\"24px\"viewBox=\"0 0 24 24\"\n",
              "       width=\"24px\">\n",
              "    <path d=\"M0 0h24v24H0V0z\" fill=\"none\"/>\n",
              "    <path d=\"M18.56 5.44l.94 2.06.94-2.06 2.06-.94-2.06-.94-.94-2.06-.94 2.06-2.06.94zm-11 1L8.5 8.5l.94-2.06 2.06-.94-2.06-.94L8.5 2.5l-.94 2.06-2.06.94zm10 10l.94 2.06.94-2.06 2.06-.94-2.06-.94-.94-2.06-.94 2.06-2.06.94z\"/><path d=\"M17.41 7.96l-1.37-1.37c-.4-.4-.92-.59-1.43-.59-.52 0-1.04.2-1.43.59L10.3 9.45l-7.72 7.72c-.78.78-.78 2.05 0 2.83L4 21.41c.39.39.9.59 1.41.59.51 0 1.02-.2 1.41-.59l7.78-7.78 2.81-2.81c.8-.78.8-2.07 0-2.86zM5.41 20L4 18.59l7.72-7.72 1.47 1.35L5.41 20z\"/>\n",
              "  </svg>\n",
              "      </button>\n",
              "      \n",
              "  <style>\n",
              "    .colab-df-container {\n",
              "      display:flex;\n",
              "      flex-wrap:wrap;\n",
              "      gap: 12px;\n",
              "    }\n",
              "\n",
              "    .colab-df-convert {\n",
              "      background-color: #E8F0FE;\n",
              "      border: none;\n",
              "      border-radius: 50%;\n",
              "      cursor: pointer;\n",
              "      display: none;\n",
              "      fill: #1967D2;\n",
              "      height: 32px;\n",
              "      padding: 0 0 0 0;\n",
              "      width: 32px;\n",
              "    }\n",
              "\n",
              "    .colab-df-convert:hover {\n",
              "      background-color: #E2EBFA;\n",
              "      box-shadow: 0px 1px 2px rgba(60, 64, 67, 0.3), 0px 1px 3px 1px rgba(60, 64, 67, 0.15);\n",
              "      fill: #174EA6;\n",
              "    }\n",
              "\n",
              "    [theme=dark] .colab-df-convert {\n",
              "      background-color: #3B4455;\n",
              "      fill: #D2E3FC;\n",
              "    }\n",
              "\n",
              "    [theme=dark] .colab-df-convert:hover {\n",
              "      background-color: #434B5C;\n",
              "      box-shadow: 0px 1px 3px 1px rgba(0, 0, 0, 0.15);\n",
              "      filter: drop-shadow(0px 1px 2px rgba(0, 0, 0, 0.3));\n",
              "      fill: #FFFFFF;\n",
              "    }\n",
              "  </style>\n",
              "\n",
              "      <script>\n",
              "        const buttonEl =\n",
              "          document.querySelector('#df-3e19ada4-c89a-4dca-bc61-8599147b8e8a button.colab-df-convert');\n",
              "        buttonEl.style.display =\n",
              "          google.colab.kernel.accessAllowed ? 'block' : 'none';\n",
              "\n",
              "        async function convertToInteractive(key) {\n",
              "          const element = document.querySelector('#df-3e19ada4-c89a-4dca-bc61-8599147b8e8a');\n",
              "          const dataTable =\n",
              "            await google.colab.kernel.invokeFunction('convertToInteractive',\n",
              "                                                     [key], {});\n",
              "          if (!dataTable) return;\n",
              "\n",
              "          const docLinkHtml = 'Like what you see? Visit the ' +\n",
              "            '<a target=\"_blank\" href=https://colab.research.google.com/notebooks/data_table.ipynb>data table notebook</a>'\n",
              "            + ' to learn more about interactive tables.';\n",
              "          element.innerHTML = '';\n",
              "          dataTable['output_type'] = 'display_data';\n",
              "          await google.colab.output.renderOutput(dataTable, element);\n",
              "          const docLink = document.createElement('div');\n",
              "          docLink.innerHTML = docLinkHtml;\n",
              "          element.appendChild(docLink);\n",
              "        }\n",
              "      </script>\n",
              "    </div>\n",
              "  </div>\n",
              "  "
            ]
          },
          "metadata": {},
          "execution_count": 170
        }
      ]
    },
    {
      "cell_type": "code",
      "source": [
        "dataset.nunique()"
      ],
      "metadata": {
        "id": "BtZsGdIGQyJN"
      },
      "execution_count": null,
      "outputs": []
    },
    {
      "cell_type": "code",
      "execution_count": null,
      "metadata": {
        "id": "Nmf1IA-ORFT_"
      },
      "outputs": [],
      "source": [
        "dataset.isna().sum()"
      ]
    },
    {
      "cell_type": "code",
      "source": [
        "dataset[\"Year Made\"].fillna(value=dataset[\"Year Made\"].mean(), inplace=True)\n",
        "dataset[\"MachineHours CurrentMeter\"].fillna(value=dataset[\"MachineHours CurrentMeter\"].mean(), inplace=True)"
      ],
      "metadata": {
        "id": "2xTiX6ulzD4Y"
      },
      "execution_count": 175,
      "outputs": []
    },
    {
      "cell_type": "code",
      "source": [
        "dataset.isna().sum()"
      ],
      "metadata": {
        "id": "TUAmAzoxzEHv"
      },
      "execution_count": null,
      "outputs": []
    },
    {
      "cell_type": "code",
      "source": [
        "dataset.shape"
      ],
      "metadata": {
        "colab": {
          "base_uri": "https://localhost:8080/"
        },
        "id": "fA1HZD2kzclo",
        "outputId": "e6ef7c1e-c34b-416c-ad22-c7555a5d6d6f"
      },
      "execution_count": 177,
      "outputs": [
        {
          "output_type": "execute_result",
          "data": {
            "text/plain": [
              "(412482, 49)"
            ]
          },
          "metadata": {},
          "execution_count": 177
        }
      ]
    },
    {
      "cell_type": "code",
      "execution_count": null,
      "metadata": {
        "id": "7Usex85qPDEh"
      },
      "outputs": [],
      "source": [
        "# how to handle dates\n",
        "\n",
        "\n",
        "\n",
        "\n",
        "# how to handle MachineHours CurrentMeter nans\n",
        "# how to remove year 1000\n",
        "# should i remove model ID?\n",
        "# one hot encoding\n",
        "# remove #NAME?\n",
        "# NIE WIEM"
      ]
    },
    {
      "cell_type": "code",
      "execution_count": 5,
      "metadata": {
        "id": "0iAeAwDUNyoE"
      },
      "outputs": [],
      "source": [
        "# dataset['Sales date'] = pd.to_datetime(dataset['Sales date']).astype(int) / 10**9"
      ]
    },
    {
      "cell_type": "code",
      "execution_count": 34,
      "metadata": {
        "id": "Td6QWkUXdeOL"
      },
      "outputs": [],
      "source": [
        "# dataset.drop(dataset[dataset[\"Year Made\"] == 1000].index, inplace = True)"
      ]
    },
    {
      "cell_type": "code",
      "source": [
        "# dataset_copy = pd.get_dummies(dataset_copy,\n",
        "#                          columns=categorical_columns,\n",
        "#                          prefix=categorical_columns)"
      ],
      "metadata": {
        "id": "TbizG1ZdcG38"
      },
      "execution_count": 11,
      "outputs": []
    },
    {
      "cell_type": "code",
      "execution_count": null,
      "metadata": {
        "id": "j4gcHfruawSa"
      },
      "outputs": [],
      "source": [
        "dataset = dataset.head(1000)"
      ]
    },
    {
      "cell_type": "code",
      "source": [
        "dataset.dtypes"
      ],
      "metadata": {
        "id": "lrv1_odFzq2Y"
      },
      "execution_count": null,
      "outputs": []
    },
    {
      "cell_type": "code",
      "source": [
        "# dataset = dataset.astype('string')\n",
        "dataset[categorical_columns] = dataset[categorical_columns].astype('string')\n",
        "# dataset = dataset.astype({\"Sales Price\": float})\n",
        "# dataset = dataset.astype({\"Year Made\": float})\n",
        "# dataset = dataset.astype({\"MachineHours CurrentMeter\": float})"
      ],
      "metadata": {
        "id": "GuyZIdMRCxbD"
      },
      "execution_count": 179,
      "outputs": []
    },
    {
      "cell_type": "code",
      "source": [
        "dataset.dtypes"
      ],
      "metadata": {
        "id": "KAMznYKtCqDW"
      },
      "execution_count": null,
      "outputs": []
    },
    {
      "cell_type": "code",
      "execution_count": null,
      "metadata": {
        "id": "uuRlZtn-XBn_"
      },
      "outputs": [],
      "source": [
        "# dataset = pd.get_dummies(dataset,\n",
        "#                          columns=[column for column in dataset.columns if column not in continuous_columns],\n",
        "#                          prefix=[column for column in dataset.columns if column not in continuous_columns])"
      ]
    },
    {
      "cell_type": "code",
      "execution_count": 181,
      "metadata": {
        "id": "SrpN_qcGO1Dw",
        "colab": {
          "base_uri": "https://localhost:8080/"
        },
        "outputId": "df956ecf-1546-47ed-c7df-fec434eee819"
      },
      "outputs": [
        {
          "output_type": "stream",
          "name": "stdout",
          "text": [
            "(412482, 49)\n"
          ]
        }
      ],
      "source": [
        "print(dataset.shape)"
      ]
    },
    {
      "cell_type": "code",
      "execution_count": null,
      "metadata": {
        "id": "RGj16scNZAV7"
      },
      "outputs": [],
      "source": [
        "dataset.head()"
      ]
    },
    {
      "cell_type": "code",
      "execution_count": 183,
      "metadata": {
        "id": "BbGHy0HgWIpX"
      },
      "outputs": [],
      "source": [
        "# dataset = dataset.astype(float)\n",
        "train_dataset = dataset.sample(frac=0.8, random_state=0)\n",
        "test_dataset = dataset.drop(train_dataset.index)"
      ]
    },
    {
      "cell_type": "code",
      "execution_count": 184,
      "metadata": {
        "colab": {
          "base_uri": "https://localhost:8080/",
          "height": 568
        },
        "id": "kwtvPqvncLtd",
        "outputId": "7431a0df-5660-4b13-aa12-26d19ea14f20"
      },
      "outputs": [
        {
          "output_type": "execute_result",
          "data": {
            "text/plain": [
              "<seaborn.axisgrid.PairGrid at 0x7fe59c2d8eb0>"
            ]
          },
          "metadata": {},
          "execution_count": 184
        },
        {
          "output_type": "display_data",
          "data": {
            "text/plain": [
              "<Figure size 540x540 with 12 Axes>"
            ],
            "image/png": "[encoded data removed]"
          },
          "metadata": {
            "needs_background": "light"
          }
        }
      ],
      "source": [
        "sns.pairplot(train_dataset[[\"Sales Price\", \"Year Made\", \"MachineHours CurrentMeter\"]], diag_kind='kde')"
      ]
    },
    {
      "cell_type": "code",
      "execution_count": 20,
      "metadata": {
        "colab": {
          "base_uri": "https://localhost:8080/",
          "height": 175
        },
        "id": "Vs9xR2Mmeckx",
        "outputId": "a2afb48c-bb67-4f23-a95c-4e989e456b89"
      },
      "outputs": [
        {
          "output_type": "execute_result",
          "data": {
            "text/plain": [
              "                              count          mean           std     min  \\\n",
              "Sales Price                412698.0  31215.181414  23141.743695  4750.0   \n",
              "datasource                 412698.0    135.169361      9.646749   121.0   \n",
              "Year Made                  412698.0   1899.049637    292.190243  1000.0   \n",
              "MachineHours CurrentMeter  147504.0   3522.988285  27169.928650     0.0   \n",
              "\n",
              "                               25%      50%      75%        max  \n",
              "Sales Price                14500.0  24000.0  40000.0   142000.0  \n",
              "datasource                   132.0    132.0    136.0      173.0  \n",
              "Year Made                   1985.0   1995.0   2001.0     2014.0  \n",
              "MachineHours CurrentMeter      0.0      0.0   3209.0  2483300.0  "
            ],
            "text/html": [
              "\n",
              "  <div id=\"df-5aa147d1-7fa3-43ca-9fa6-fb290845bd5e\">\n",
              "    <div class=\"colab-df-container\">\n",
              "      <div>\n",
              "<style scoped>\n",
              "    .dataframe tbody tr th:only-of-type {\n",
              "        vertical-align: middle;\n",
              "    }\n",
              "\n",
              "    .dataframe tbody tr th {\n",
              "        vertical-align: top;\n",
              "    }\n",
              "\n",
              "    .dataframe thead th {\n",
              "        text-align: right;\n",
              "    }\n",
              "</style>\n",
              "<table border=\"1\" class=\"dataframe\">\n",
              "  <thead>\n",
              "    <tr style=\"text-align: right;\">\n",
              "      <th></th>\n",
              "      <th>count</th>\n",
              "      <th>mean</th>\n",
              "      <th>std</th>\n",
              "      <th>min</th>\n",
              "      <th>25%</th>\n",
              "      <th>50%</th>\n",
              "      <th>75%</th>\n",
              "      <th>max</th>\n",
              "    </tr>\n",
              "  </thead>\n",
              "  <tbody>\n",
              "    <tr>\n",
              "      <th>Sales Price</th>\n",
              "      <td>412698.0</td>\n",
              "      <td>31215.181414</td>\n",
              "      <td>23141.743695</td>\n",
              "      <td>4750.0</td>\n",
              "      <td>14500.0</td>\n",
              "      <td>24000.0</td>\n",
              "      <td>40000.0</td>\n",
              "      <td>142000.0</td>\n",
              "    </tr>\n",
              "    <tr>\n",
              "      <th>datasource</th>\n",
              "      <td>412698.0</td>\n",
              "      <td>135.169361</td>\n",
              "      <td>9.646749</td>\n",
              "      <td>121.0</td>\n",
              "      <td>132.0</td>\n",
              "      <td>132.0</td>\n",
              "      <td>136.0</td>\n",
              "      <td>173.0</td>\n",
              "    </tr>\n",
              "    <tr>\n",
              "      <th>Year Made</th>\n",
              "      <td>412698.0</td>\n",
              "      <td>1899.049637</td>\n",
              "      <td>292.190243</td>\n",
              "      <td>1000.0</td>\n",
              "      <td>1985.0</td>\n",
              "      <td>1995.0</td>\n",
              "      <td>2001.0</td>\n",
              "      <td>2014.0</td>\n",
              "    </tr>\n",
              "    <tr>\n",
              "      <th>MachineHours CurrentMeter</th>\n",
              "      <td>147504.0</td>\n",
              "      <td>3522.988285</td>\n",
              "      <td>27169.928650</td>\n",
              "      <td>0.0</td>\n",
              "      <td>0.0</td>\n",
              "      <td>0.0</td>\n",
              "      <td>3209.0</td>\n",
              "      <td>2483300.0</td>\n",
              "    </tr>\n",
              "  </tbody>\n",
              "</table>\n",
              "</div>\n",
              "      <button class=\"colab-df-convert\" onclick=\"convertToInteractive('df-5aa147d1-7fa3-43ca-9fa6-fb290845bd5e')\"\n",
              "              title=\"Convert this dataframe to an interactive table.\"\n",
              "              style=\"display:none;\">\n",
              "        \n",
              "  <svg xmlns=\"http://www.w3.org/2000/svg\" height=\"24px\"viewBox=\"0 0 24 24\"\n",
              "       width=\"24px\">\n",
              "    <path d=\"M0 0h24v24H0V0z\" fill=\"none\"/>\n",
              "    <path d=\"M18.56 5.44l.94 2.06.94-2.06 2.06-.94-2.06-.94-.94-2.06-.94 2.06-2.06.94zm-11 1L8.5 8.5l.94-2.06 2.06-.94-2.06-.94L8.5 2.5l-.94 2.06-2.06.94zm10 10l.94 2.06.94-2.06 2.06-.94-2.06-.94-.94-2.06-.94 2.06-2.06.94z\"/><path d=\"M17.41 7.96l-1.37-1.37c-.4-.4-.92-.59-1.43-.59-.52 0-1.04.2-1.43.59L10.3 9.45l-7.72 7.72c-.78.78-.78 2.05 0 2.83L4 21.41c.39.39.9.59 1.41.59.51 0 1.02-.2 1.41-.59l7.78-7.78 2.81-2.81c.8-.78.8-2.07 0-2.86zM5.41 20L4 18.59l7.72-7.72 1.47 1.35L5.41 20z\"/>\n",
              "  </svg>\n",
              "      </button>\n",
              "      \n",
              "  <style>\n",
              "    .colab-df-container {\n",
              "      display:flex;\n",
              "      flex-wrap:wrap;\n",
              "      gap: 12px;\n",
              "    }\n",
              "\n",
              "    .colab-df-convert {\n",
              "      background-color: #E8F0FE;\n",
              "      border: none;\n",
              "      border-radius: 50%;\n",
              "      cursor: pointer;\n",
              "      display: none;\n",
              "      fill: #1967D2;\n",
              "      height: 32px;\n",
              "      padding: 0 0 0 0;\n",
              "      width: 32px;\n",
              "    }\n",
              "\n",
              "    .colab-df-convert:hover {\n",
              "      background-color: #E2EBFA;\n",
              "      box-shadow: 0px 1px 2px rgba(60, 64, 67, 0.3), 0px 1px 3px 1px rgba(60, 64, 67, 0.15);\n",
              "      fill: #174EA6;\n",
              "    }\n",
              "\n",
              "    [theme=dark] .colab-df-convert {\n",
              "      background-color: #3B4455;\n",
              "      fill: #D2E3FC;\n",
              "    }\n",
              "\n",
              "    [theme=dark] .colab-df-convert:hover {\n",
              "      background-color: #434B5C;\n",
              "      box-shadow: 0px 1px 3px 1px rgba(0, 0, 0, 0.15);\n",
              "      filter: drop-shadow(0px 1px 2px rgba(0, 0, 0, 0.3));\n",
              "      fill: #FFFFFF;\n",
              "    }\n",
              "  </style>\n",
              "\n",
              "      <script>\n",
              "        const buttonEl =\n",
              "          document.querySelector('#df-5aa147d1-7fa3-43ca-9fa6-fb290845bd5e button.colab-df-convert');\n",
              "        buttonEl.style.display =\n",
              "          google.colab.kernel.accessAllowed ? 'block' : 'none';\n",
              "\n",
              "        async function convertToInteractive(key) {\n",
              "          const element = document.querySelector('#df-5aa147d1-7fa3-43ca-9fa6-fb290845bd5e');\n",
              "          const dataTable =\n",
              "            await google.colab.kernel.invokeFunction('convertToInteractive',\n",
              "                                                     [key], {});\n",
              "          if (!dataTable) return;\n",
              "\n",
              "          const docLinkHtml = 'Like what you see? Visit the ' +\n",
              "            '<a target=\"_blank\" href=https://colab.research.google.com/notebooks/data_table.ipynb>data table notebook</a>'\n",
              "            + ' to learn more about interactive tables.';\n",
              "          element.innerHTML = '';\n",
              "          dataTable['output_type'] = 'display_data';\n",
              "          await google.colab.output.renderOutput(dataTable, element);\n",
              "          const docLink = document.createElement('div');\n",
              "          docLink.innerHTML = docLinkHtml;\n",
              "          element.appendChild(docLink);\n",
              "        }\n",
              "      </script>\n",
              "    </div>\n",
              "  </div>\n",
              "  "
            ]
          },
          "metadata": {},
          "execution_count": 20
        }
      ],
      "source": [
        "dataset.describe().transpose()"
      ]
    },
    {
      "cell_type": "code",
      "execution_count": 185,
      "metadata": {
        "id": "mAyOZvK0WThM"
      },
      "outputs": [],
      "source": [
        "x_train = train_dataset.drop(columns=[\"Sales Price\"])\n",
        "x_test = test_dataset.drop(columns=[\"Sales Price\"])\n",
        "\n",
        "y_train = train_dataset[[\"Sales Price\"]]\n",
        "y_test = test_dataset[[\"Sales Price\"]]"
      ]
    },
    {
      "cell_type": "code",
      "execution_count": 186,
      "metadata": {
        "id": "WW04y_AtgYSO"
      },
      "outputs": [],
      "source": [
        "normalizer = tf.keras.layers.Normalization(axis=-1)\n",
        "normalizer.adapt(x_train[[\"Year Made\", \"MachineHours CurrentMeter\"]])"
      ]
    },
    {
      "cell_type": "code",
      "execution_count": null,
      "metadata": {
        "id": "nrjDJwTa5u9V"
      },
      "outputs": [],
      "source": [
        "encoder = layers.StringLookup(output_mode='multi_hot')\n",
        "encoder.adapt(x_train.drop(columns=[\"Year Made\", \"MachineHours CurrentMeter\"]))\n",
        "print(encoder(x_train.drop(columns=[\"Year Made\", \"MachineHours CurrentMeter\"])))\n",
        "# print(encoder(x_train.drop(columns=[\"Year Made\", \"MachineHours CurrentMeter\"]).astype('string')))"
      ]
    },
    {
      "cell_type": "code",
      "execution_count": 21,
      "metadata": {
        "id": "o3hUAqEij7eq"
      },
      "outputs": [],
      "source": [
        "# def build_and_compile_model(input1, input2):\n",
        "def build_and_compile_model():\n",
        "  input_continuous = layers.Input(shape=(2,))\n",
        "  input_categorical = layers.Input(shape=(46,), dtype=tf.string)\n",
        "\n",
        "  input_continuous_normalized = normalizer(input_continuous)\n",
        "  input_categorical_encoded = encoder(input_categorical)\n",
        "\n",
        "  merged = layers.Concatenate(axis=1)([input_continuous_normalized, input_categorical_encoded])\n",
        "\n",
        "  dense1 = layers.Dense(256, activation='relu', kernel_regularizer=regularizers.l1(0.005))(merged)\n",
        "  dense2 = layers.Dense(256, activation='relu')(dense1)\n",
        "  dropout = layers.Dropout(rate = 0.05)(dense2) \n",
        "  dense3 = layers.Dense(64, activation='relu')(dropout)\n",
        "  outputs = layers.Dense(1)(dense2)\n",
        "\n",
        "  model = keras.Model(inputs=[input_continuous, input_categorical], outputs=outputs)\n",
        "\n",
        "  # model = keras.Sequential([\n",
        "  #     norm,\n",
        "  #     layers.Dense(64, activation='relu'),\n",
        "  #     layers.Dense(64, activation='relu'),\n",
        "  #     layers.Dense(1)\n",
        "  # ])\n",
        "\n",
        "  # input = layers.Input(shape=(2,))\n",
        "  # x = normalizer(input)\n",
        "  # x = layers.Dense(64, activation='relu')(x)\n",
        "  # x = layers.Dense(64, activation='relu')(x)\n",
        "  # x = layers.Dense(1)(x)\n",
        "\n",
        "  # model = keras.Model(inputs=input, outputs=x)\n",
        "\n",
        "  model.compile(loss='mean_absolute_error', optimizer=tf.keras.optimizers.Adam(0.001))\n",
        "\n",
        "  return model"
      ]
    },
    {
      "cell_type": "code",
      "execution_count": 19,
      "metadata": {
        "colab": {
          "base_uri": "https://localhost:8080/"
        },
        "id": "dl1l1nYjkCHZ",
        "outputId": "7535dc7a-b58e-4abe-d422-40177376c2f3"
      },
      "outputs": [
        {
          "output_type": "stream",
          "name": "stdout",
          "text": [
            "(104421, 2)\n",
            "(104421, 46)\n",
            "Model: \"model_1\"\n",
            "__________________________________________________________________________________________________\n",
            " Layer (type)                   Output Shape         Param #     Connected to                     \n",
            "==================================================================================================\n",
            " input_3 (InputLayer)           [(None, 2)]          0           []                               \n",
            "                                                                                                  \n",
            " input_4 (InputLayer)           [(None, 46)]         0           []                               \n",
            "                                                                                                  \n",
            " normalization (Normalization)  (None, 2)            5           ['input_3[0][0]']                \n",
            "                                                                                                  \n",
            " string_lookup (StringLookup)   (None, 4582)         0           ['input_4[0][0]']                \n",
            "                                                                                                  \n",
            " concatenate_1 (Concatenate)    (None, 4584)         0           ['normalization[1][0]',          \n",
            "                                                                  'string_lookup[1][0]']          \n",
            "                                                                                                  \n",
            " dense_4 (Dense)                (None, 256)          1173760     ['concatenate_1[0][0]']          \n",
            "                                                                                                  \n",
            " dense_5 (Dense)                (None, 128)          32896       ['dense_4[0][0]']                \n",
            "                                                                                                  \n",
            " dense_7 (Dense)                (None, 1)            129         ['dense_5[0][0]']                \n",
            "                                                                                                  \n",
            "==================================================================================================\n",
            "Total params: 1,206,790\n",
            "Trainable params: 1,206,785\n",
            "Non-trainable params: 5\n",
            "__________________________________________________________________________________________________\n"
          ]
        }
      ],
      "source": [
        "print(x_train[[\"Year Made\", \"MachineHours CurrentMeter\"]].astype(float).shape)\n",
        "print(x_train.drop(columns=[\"Year Made\", \"MachineHours CurrentMeter\"]).astype('string').shape)\n",
        "\n",
        "# dnn_model = build_and_compile_model(x_train[[\"Year Made\", \"MachineHours CurrentMeter\"]].astype(float),\n",
        "#                                     x_train.drop(columns=[\"Year Made\", \"MachineHours CurrentMeter\"]).astype('string'))\n",
        "\n",
        "dnn_model = build_and_compile_model()\n",
        "dnn_model.summary()"
      ]
    },
    {
      "cell_type": "code",
      "source": [
        "x_train.dtypes"
      ],
      "metadata": {
        "id": "FU6d3g6TAmJv"
      },
      "execution_count": null,
      "outputs": []
    },
    {
      "cell_type": "code",
      "execution_count": null,
      "metadata": {
        "id": "9BzRC-BEkIAO"
      },
      "outputs": [],
      "source": [
        "%%time\n",
        "history = dnn_model.fit(\n",
        "    # x_train.drop(columns=[\"Year Made\", \"MachineHours CurrentMeter\"]),\n",
        "    [x_train[[\"Year Made\", \"MachineHours CurrentMeter\"]],\n",
        "     x_train.drop(columns=[\"Year Made\", \"MachineHours CurrentMeter\"])],\n",
        "    y_train,\n",
        "    validation_split=0.2,\n",
        "    # validation_data=([x_test[[\"Year Made\", \"MachineHours CurrentMeter\"]],\n",
        "    #                   x_test.drop(columns=[\"Year Made\", \"MachineHours CurrentMeter\"])],\n",
        "    #                  y_test),\n",
        "    verbose=1,\n",
        "    batch_size=128,\n",
        "    epochs=100)"
      ]
    },
    {
      "cell_type": "code",
      "execution_count": 186,
      "metadata": {
        "id": "BzI93sqnt7dI"
      },
      "outputs": [],
      "source": [
        "def plot_loss(history):\n",
        "  plt.plot(history.history['loss'], label='loss')\n",
        "  plt.plot(history.history['val_loss'], label='val_loss')\n",
        "  # plt.ylim([0, 10])\n",
        "  plt.xlabel('Epoch')\n",
        "  plt.ylabel('Error [Sales Price]')\n",
        "  plt.legend()\n",
        "  plt.grid(True)"
      ]
    },
    {
      "cell_type": "code",
      "execution_count": 187,
      "metadata": {
        "colab": {
          "base_uri": "https://localhost:8080/",
          "height": 279
        },
        "id": "OUDE3iZKkNFO",
        "outputId": "10706ed2-00ee-4315-c995-ce5b76213b28"
      },
      "outputs": [
        {
          "output_type": "display_data",
          "data": {
            "text/plain": [
              "<Figure size 432x288 with 1 Axes>"
            ],
            "image/png": "[encoded data removed]"
          },
          "metadata": {
            "needs_background": "light"
          }
        }
      ],
      "source": [
        "plot_loss(history)"
      ]
    },
    {
      "cell_type": "code",
      "execution_count": 188,
      "metadata": {
        "colab": {
          "base_uri": "https://localhost:8080/"
        },
        "id": "itysmuxlu4tK",
        "outputId": "016ae578-5f2b-4e3c-c2c5-a48c6135652c"
      },
      "outputs": [
        {
          "output_type": "stream",
          "name": "stdout",
          "text": [
            "9278.9736328125\n"
          ]
        }
      ],
      "source": [
        "results = dnn_model.evaluate([x_test[[\"Year Made\", \"MachineHours CurrentMeter\"]],\n",
        "                              x_test.drop(columns=[\"Year Made\", \"MachineHours CurrentMeter\"])],\n",
        "                             y_test,\n",
        "                             verbose=0)\n",
        "print(results)"
      ]
    }
  ],
  "metadata": {
    "colab": {
      "provenance": []
    },
    "kernelspec": {
      "display_name": "Python 3",
      "name": "python3"
    },
    "language_info": {
      "name": "python"
    }
  },
  "nbformat": 4,
  "nbformat_minor": 0
}