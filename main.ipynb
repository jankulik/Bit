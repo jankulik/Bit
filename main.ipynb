{
 "cells": [
  {
   "cell_type": "markdown",
   "source": [
    "# Data Preprocessing and Visualisation"
   ],
   "metadata": {
    "id": "Mlqg4UAmvDrU"
   }
  },
  {
   "cell_type": "markdown",
   "source": [
    "##### Installing and importing libraries"
   ],
   "metadata": {
    "id": "Xra_f6WlXRmL"
   }
  },
  {
   "cell_type": "code",
   "execution_count": 1,
   "metadata": {
    "id": "Y8WVhcE9FlOh"
   },
   "outputs": [],
   "source": [
    "# library used for pairplots\n",
    "!pip install -q seaborn"
   ]
  },
  {
   "cell_type": "code",
   "execution_count": 2,
   "metadata": {
    "id": "-vlVSPYwFe_U"
   },
   "outputs": [],
   "source": [
    "import tensorflow as tf\n",
    "from tensorflow import keras\n",
    "from tensorflow.keras import layers\n",
    "from tensorflow.keras import regularizers\n",
    "\n",
    "import matplotlib.pyplot as plt\n",
    "import numpy as np\n",
    "import pandas as pd\n",
    "import seaborn as sns\n",
    "import os\n",
    "\n",
    "# ensures that the entire width of the dataset can be displayed\n",
    "pd.set_option('display.max_columns', None)"
   ]
  },
  {
   "cell_type": "markdown",
   "source": [
    "##### Loading the dataset\n",
    "\n",
    "It is necessary to configure specific dtype for some columns, since their entries are ambiguous and contain both integers and strings."
   ],
   "metadata": {
    "id": "psWdy_heXN8V"
   }
  },
  {
   "cell_type": "code",
   "execution_count": 3,
   "metadata": {
    "id": "heQY8DRmE3zb"
   },
   "outputs": [],
   "source": [
    "dataset = pd.read_csv(\"data/BIT_AI_assignment_data.csv\",\n",
    "                      index_col=0,\n",
    "                      dtype={\"datasource\": 'string',\n",
    "                             \"Model Series\": 'string',\n",
    "                             \"Couple System\": 'string',\n",
    "                             \"Grouser Tracks\": 'string',\n",
    "                             \"Hydraulics Flow\": 'string'})"
   ]
  },
  {
   "cell_type": "markdown",
   "source": [
    "(Optional) Since the dataset is quite large, its size can be reduced for testing."
   ],
   "metadata": {
    "id": "h-XLnZl9fg3U"
   }
  },
  {
   "cell_type": "code",
   "execution_count": 4,
   "metadata": {
    "id": "j4gcHfruawSa"
   },
   "outputs": [],
   "source": [
    "# dataset = dataset.sample(frac=0.005, random_state=0)"
   ]
  },
  {
   "cell_type": "markdown",
   "source": [
    "##### Cleaning the data"
   ],
   "metadata": {
    "id": "4uvAHsLCdlQu"
   }
  },
  {
   "cell_type": "code",
   "source": [
    "print(\"Dataset shape:\", dataset.shape)"
   ],
   "metadata": {
    "colab": {
     "base_uri": "https://localhost:8080/"
    },
    "id": "fA1HZD2kzclo",
    "outputId": "5c07268c-34a0-48e2-921e-0f17d361f99e"
   },
   "execution_count": 5,
   "outputs": [
    {
     "output_type": "stream",
     "name": "stdout",
     "text": [
      "Dataset shape: (412698, 53)\n"
     ]
    }
   ]
  },
  {
   "cell_type": "markdown",
   "source": [
    "In order to gain more insight into the dataset, 3 first rows are printed."
   ],
   "metadata": {
    "id": "hE4B6UdOh9mM"
   }
  },
  {
   "cell_type": "code",
   "source": [
    "dataset.head(3)"
   ],
   "metadata": {
    "colab": {
     "base_uri": "https://localhost:8080/",
     "height": 381
    },
    "id": "QgCVCNZ1dt9v",
    "outputId": "14270810-10da-4479-b750-b9af7bd04ded"
   },
   "execution_count": 6,
   "outputs": [
    {
     "output_type": "execute_result",
     "data": {
      "text/plain": [
       "   Sales ID  Sales Price  Machine ID  Model ID datasource  Auctioneer ID  \\\n",
       "0   1139246      66000.0      999089      3157        121            3.0   \n",
       "1   1139248      57000.0      117657        77        121            3.0   \n",
       "2   1139249      10000.0      434808      7009        121            3.0   \n",
       "\n",
       "   Year Made  MachineHours CurrentMeter Usage Band       Sales date  \\\n",
       "0       2004                       68.0        Low  11/16/2006 0:00   \n",
       "1       1996                     4640.0        Low   3/26/2004 0:00   \n",
       "2       2001                     2838.0       High   2/26/2004 0:00   \n",
       "\n",
       "  Model Description Base Model Secondary Description Model Series  \\\n",
       "0              521D        521                     D         <NA>   \n",
       "1            950FII        950                     F           II   \n",
       "2               226        226                   NaN         <NA>   \n",
       "\n",
       "  Model Descriptor Machine Size  \\\n",
       "0              NaN          NaN   \n",
       "1              NaN       Medium   \n",
       "2              NaN          NaN   \n",
       "\n",
       "                         Product Class Description  State of Usage  \\\n",
       "0               Type E - 110.0 to 120.0 Horsepower         Alabama   \n",
       "1               Type E - 150.0 to 175.0 Horsepower  North Carolina   \n",
       "2  Type F - 1351.0 to 1601.0 Lb Operating Capacity        New York   \n",
       "\n",
       "  Product Group Product Group Description Driver System   Enclosure  \\\n",
       "0            WL                   Germany           NaN  EROPS w AC   \n",
       "1            WL                   Germany           NaN  EROPS w AC   \n",
       "2           SSL                    France           NaN       OROPS   \n",
       "\n",
       "               Control Touchpad Type         Control Type Version  \\\n",
       "0  None or Unspecified           NaN  None or Unspecified     NaN   \n",
       "1  None or Unspecified           NaN  None or Unspecified     NaN   \n",
       "2  None or Unspecified           NaN                  NaN     NaN   \n",
       "\n",
       "  Transmission Turbo Charged Extra features Machine Width Clean Room  \\\n",
       "0          NaN           NaN            NaN           NaN        NaN   \n",
       "1          NaN           NaN            NaN           NaN        NaN   \n",
       "2          NaN           NaN            NaN           NaN        NaN   \n",
       "\n",
       "  Engine Horsepower Hydraulics Push Block Ripper Scarifier Tip Control  \\\n",
       "0               NaN    2 Valve        NaN    NaN       NaN         NaN   \n",
       "1               NaN    2 Valve        NaN    NaN       NaN         NaN   \n",
       "2               NaN  Auxiliary        NaN    NaN       NaN         NaN   \n",
       "\n",
       "           Screen Size              Coupler        Couple System  \\\n",
       "0  None or Unspecified  None or Unspecified                 <NA>   \n",
       "1                 23.5  None or Unspecified                 <NA>   \n",
       "2                  NaN  None or Unspecified  None or Unspecified   \n",
       "\n",
       "        Grouser Tracks Hydraulics Flow Tupper Type Screen Size.1 Stick Length  \\\n",
       "0                 <NA>            <NA>         NaN           NaN          NaN   \n",
       "1                 <NA>            <NA>         NaN           NaN          NaN   \n",
       "2  None or Unspecified        Standard         NaN           NaN          NaN   \n",
       "\n",
       "  Thumb Pattern Changer Grouser Type Backhoe Mounting Blade Type  \\\n",
       "0   NaN             NaN          NaN              NaN        NaN   \n",
       "1   NaN             NaN          NaN              NaN        NaN   \n",
       "2   NaN             NaN          NaN              NaN        NaN   \n",
       "\n",
       "  Travel Possibilities Differential Type Steering Controls  \n",
       "0                  NaN          Standard      Conventional  \n",
       "1                  NaN          Standard      Conventional  \n",
       "2                  NaN               NaN               NaN  "
      ],
      "text/html": [
       "\n",
       "  <div id=\"df-18384210-bcc7-4daf-9501-f26e8ee2ec02\">\n",
       "    <div class=\"colab-df-container\">\n",
       "      <div>\n",
       "<style scoped>\n",
       "    .dataframe tbody tr th:only-of-type {\n",
       "        vertical-align: middle;\n",
       "    }\n",
       "\n",
       "    .dataframe tbody tr th {\n",
       "        vertical-align: top;\n",
       "    }\n",
       "\n",
       "    .dataframe thead th {\n",
       "        text-align: right;\n",
       "    }\n",
       "</style>\n",
       "<table border=\"1\" class=\"dataframe\">\n",
       "  <thead>\n",
       "    <tr style=\"text-align: right;\">\n",
       "      <th></th>\n",
       "      <th>Sales ID</th>\n",
       "      <th>Sales Price</th>\n",
       "      <th>Machine ID</th>\n",
       "      <th>Model ID</th>\n",
       "      <th>datasource</th>\n",
       "      <th>Auctioneer ID</th>\n",
       "      <th>Year Made</th>\n",
       "      <th>MachineHours CurrentMeter</th>\n",
       "      <th>Usage Band</th>\n",
       "      <th>Sales date</th>\n",
       "      <th>Model Description</th>\n",
       "      <th>Base Model</th>\n",
       "      <th>Secondary Description</th>\n",
       "      <th>Model Series</th>\n",
       "      <th>Model Descriptor</th>\n",
       "      <th>Machine Size</th>\n",
       "      <th>Product Class Description</th>\n",
       "      <th>State of Usage</th>\n",
       "      <th>Product Group</th>\n",
       "      <th>Product Group Description</th>\n",
       "      <th>Driver System</th>\n",
       "      <th>Enclosure</th>\n",
       "      <th>Control</th>\n",
       "      <th>Touchpad Type</th>\n",
       "      <th>Control Type</th>\n",
       "      <th>Version</th>\n",
       "      <th>Transmission</th>\n",
       "      <th>Turbo Charged</th>\n",
       "      <th>Extra features</th>\n",
       "      <th>Machine Width</th>\n",
       "      <th>Clean Room</th>\n",
       "      <th>Engine Horsepower</th>\n",
       "      <th>Hydraulics</th>\n",
       "      <th>Push Block</th>\n",
       "      <th>Ripper</th>\n",
       "      <th>Scarifier</th>\n",
       "      <th>Tip Control</th>\n",
       "      <th>Screen Size</th>\n",
       "      <th>Coupler</th>\n",
       "      <th>Couple System</th>\n",
       "      <th>Grouser Tracks</th>\n",
       "      <th>Hydraulics Flow</th>\n",
       "      <th>Tupper Type</th>\n",
       "      <th>Screen Size.1</th>\n",
       "      <th>Stick Length</th>\n",
       "      <th>Thumb</th>\n",
       "      <th>Pattern Changer</th>\n",
       "      <th>Grouser Type</th>\n",
       "      <th>Backhoe Mounting</th>\n",
       "      <th>Blade Type</th>\n",
       "      <th>Travel Possibilities</th>\n",
       "      <th>Differential Type</th>\n",
       "      <th>Steering Controls</th>\n",
       "    </tr>\n",
       "  </thead>\n",
       "  <tbody>\n",
       "    <tr>\n",
       "      <th>0</th>\n",
       "      <td>1139246</td>\n",
       "      <td>66000.0</td>\n",
       "      <td>999089</td>\n",
       "      <td>3157</td>\n",
       "      <td>121</td>\n",
       "      <td>3.0</td>\n",
       "      <td>2004</td>\n",
       "      <td>68.0</td>\n",
       "      <td>Low</td>\n",
       "      <td>11/16/2006 0:00</td>\n",
       "      <td>521D</td>\n",
       "      <td>521</td>\n",
       "      <td>D</td>\n",
       "      <td>&lt;NA&gt;</td>\n",
       "      <td>NaN</td>\n",
       "      <td>NaN</td>\n",
       "      <td>Type E - 110.0 to 120.0 Horsepower</td>\n",
       "      <td>Alabama</td>\n",
       "      <td>WL</td>\n",
       "      <td>Germany</td>\n",
       "      <td>NaN</td>\n",
       "      <td>EROPS w AC</td>\n",
       "      <td>None or Unspecified</td>\n",
       "      <td>NaN</td>\n",
       "      <td>None or Unspecified</td>\n",
       "      <td>NaN</td>\n",
       "      <td>NaN</td>\n",
       "      <td>NaN</td>\n",
       "      <td>NaN</td>\n",
       "      <td>NaN</td>\n",
       "      <td>NaN</td>\n",
       "      <td>NaN</td>\n",
       "      <td>2 Valve</td>\n",
       "      <td>NaN</td>\n",
       "      <td>NaN</td>\n",
       "      <td>NaN</td>\n",
       "      <td>NaN</td>\n",
       "      <td>None or Unspecified</td>\n",
       "      <td>None or Unspecified</td>\n",
       "      <td>&lt;NA&gt;</td>\n",
       "      <td>&lt;NA&gt;</td>\n",
       "      <td>&lt;NA&gt;</td>\n",
       "      <td>NaN</td>\n",
       "      <td>NaN</td>\n",
       "      <td>NaN</td>\n",
       "      <td>NaN</td>\n",
       "      <td>NaN</td>\n",
       "      <td>NaN</td>\n",
       "      <td>NaN</td>\n",
       "      <td>NaN</td>\n",
       "      <td>NaN</td>\n",
       "      <td>Standard</td>\n",
       "      <td>Conventional</td>\n",
       "    </tr>\n",
       "    <tr>\n",
       "      <th>1</th>\n",
       "      <td>1139248</td>\n",
       "      <td>57000.0</td>\n",
       "      <td>117657</td>\n",
       "      <td>77</td>\n",
       "      <td>121</td>\n",
       "      <td>3.0</td>\n",
       "      <td>1996</td>\n",
       "      <td>4640.0</td>\n",
       "      <td>Low</td>\n",
       "      <td>3/26/2004 0:00</td>\n",
       "      <td>950FII</td>\n",
       "      <td>950</td>\n",
       "      <td>F</td>\n",
       "      <td>II</td>\n",
       "      <td>NaN</td>\n",
       "      <td>Medium</td>\n",
       "      <td>Type E - 150.0 to 175.0 Horsepower</td>\n",
       "      <td>North Carolina</td>\n",
       "      <td>WL</td>\n",
       "      <td>Germany</td>\n",
       "      <td>NaN</td>\n",
       "      <td>EROPS w AC</td>\n",
       "      <td>None or Unspecified</td>\n",
       "      <td>NaN</td>\n",
       "      <td>None or Unspecified</td>\n",
       "      <td>NaN</td>\n",
       "      <td>NaN</td>\n",
       "      <td>NaN</td>\n",
       "      <td>NaN</td>\n",
       "      <td>NaN</td>\n",
       "      <td>NaN</td>\n",
       "      <td>NaN</td>\n",
       "      <td>2 Valve</td>\n",
       "      <td>NaN</td>\n",
       "      <td>NaN</td>\n",
       "      <td>NaN</td>\n",
       "      <td>NaN</td>\n",
       "      <td>23.5</td>\n",
       "      <td>None or Unspecified</td>\n",
       "      <td>&lt;NA&gt;</td>\n",
       "      <td>&lt;NA&gt;</td>\n",
       "      <td>&lt;NA&gt;</td>\n",
       "      <td>NaN</td>\n",
       "      <td>NaN</td>\n",
       "      <td>NaN</td>\n",
       "      <td>NaN</td>\n",
       "      <td>NaN</td>\n",
       "      <td>NaN</td>\n",
       "      <td>NaN</td>\n",
       "      <td>NaN</td>\n",
       "      <td>NaN</td>\n",
       "      <td>Standard</td>\n",
       "      <td>Conventional</td>\n",
       "    </tr>\n",
       "    <tr>\n",
       "      <th>2</th>\n",
       "      <td>1139249</td>\n",
       "      <td>10000.0</td>\n",
       "      <td>434808</td>\n",
       "      <td>7009</td>\n",
       "      <td>121</td>\n",
       "      <td>3.0</td>\n",
       "      <td>2001</td>\n",
       "      <td>2838.0</td>\n",
       "      <td>High</td>\n",
       "      <td>2/26/2004 0:00</td>\n",
       "      <td>226</td>\n",
       "      <td>226</td>\n",
       "      <td>NaN</td>\n",
       "      <td>&lt;NA&gt;</td>\n",
       "      <td>NaN</td>\n",
       "      <td>NaN</td>\n",
       "      <td>Type F - 1351.0 to 1601.0 Lb Operating Capacity</td>\n",
       "      <td>New York</td>\n",
       "      <td>SSL</td>\n",
       "      <td>France</td>\n",
       "      <td>NaN</td>\n",
       "      <td>OROPS</td>\n",
       "      <td>None or Unspecified</td>\n",
       "      <td>NaN</td>\n",
       "      <td>NaN</td>\n",
       "      <td>NaN</td>\n",
       "      <td>NaN</td>\n",
       "      <td>NaN</td>\n",
       "      <td>NaN</td>\n",
       "      <td>NaN</td>\n",
       "      <td>NaN</td>\n",
       "      <td>NaN</td>\n",
       "      <td>Auxiliary</td>\n",
       "      <td>NaN</td>\n",
       "      <td>NaN</td>\n",
       "      <td>NaN</td>\n",
       "      <td>NaN</td>\n",
       "      <td>NaN</td>\n",
       "      <td>None or Unspecified</td>\n",
       "      <td>None or Unspecified</td>\n",
       "      <td>None or Unspecified</td>\n",
       "      <td>Standard</td>\n",
       "      <td>NaN</td>\n",
       "      <td>NaN</td>\n",
       "      <td>NaN</td>\n",
       "      <td>NaN</td>\n",
       "      <td>NaN</td>\n",
       "      <td>NaN</td>\n",
       "      <td>NaN</td>\n",
       "      <td>NaN</td>\n",
       "      <td>NaN</td>\n",
       "      <td>NaN</td>\n",
       "      <td>NaN</td>\n",
       "    </tr>\n",
       "  </tbody>\n",
       "</table>\n",
       "</div>\n",
       "      <button class=\"colab-df-convert\" onclick=\"convertToInteractive('df-18384210-bcc7-4daf-9501-f26e8ee2ec02')\"\n",
       "              title=\"Convert this dataframe to an interactive table.\"\n",
       "              style=\"display:none;\">\n",
       "        \n",
       "  <svg xmlns=\"http://www.w3.org/2000/svg\" height=\"24px\"viewBox=\"0 0 24 24\"\n",
       "       width=\"24px\">\n",
       "    <path d=\"M0 0h24v24H0V0z\" fill=\"none\"/>\n",
       "    <path d=\"M18.56 5.44l.94 2.06.94-2.06 2.06-.94-2.06-.94-.94-2.06-.94 2.06-2.06.94zm-11 1L8.5 8.5l.94-2.06 2.06-.94-2.06-.94L8.5 2.5l-.94 2.06-2.06.94zm10 10l.94 2.06.94-2.06 2.06-.94-2.06-.94-.94-2.06-.94 2.06-2.06.94z\"/><path d=\"M17.41 7.96l-1.37-1.37c-.4-.4-.92-.59-1.43-.59-.52 0-1.04.2-1.43.59L10.3 9.45l-7.72 7.72c-.78.78-.78 2.05 0 2.83L4 21.41c.39.39.9.59 1.41.59.51 0 1.02-.2 1.41-.59l7.78-7.78 2.81-2.81c.8-.78.8-2.07 0-2.86zM5.41 20L4 18.59l7.72-7.72 1.47 1.35L5.41 20z\"/>\n",
       "  </svg>\n",
       "      </button>\n",
       "      \n",
       "  <style>\n",
       "    .colab-df-container {\n",
       "      display:flex;\n",
       "      flex-wrap:wrap;\n",
       "      gap: 12px;\n",
       "    }\n",
       "\n",
       "    .colab-df-convert {\n",
       "      background-color: #E8F0FE;\n",
       "      border: none;\n",
       "      border-radius: 50%;\n",
       "      cursor: pointer;\n",
       "      display: none;\n",
       "      fill: #1967D2;\n",
       "      height: 32px;\n",
       "      padding: 0 0 0 0;\n",
       "      width: 32px;\n",
       "    }\n",
       "\n",
       "    .colab-df-convert:hover {\n",
       "      background-color: #E2EBFA;\n",
       "      box-shadow: 0px 1px 2px rgba(60, 64, 67, 0.3), 0px 1px 3px 1px rgba(60, 64, 67, 0.15);\n",
       "      fill: #174EA6;\n",
       "    }\n",
       "\n",
       "    [theme=dark] .colab-df-convert {\n",
       "      background-color: #3B4455;\n",
       "      fill: #D2E3FC;\n",
       "    }\n",
       "\n",
       "    [theme=dark] .colab-df-convert:hover {\n",
       "      background-color: #434B5C;\n",
       "      box-shadow: 0px 1px 3px 1px rgba(0, 0, 0, 0.15);\n",
       "      filter: drop-shadow(0px 1px 2px rgba(0, 0, 0, 0.3));\n",
       "      fill: #FFFFFF;\n",
       "    }\n",
       "  </style>\n",
       "\n",
       "      <script>\n",
       "        const buttonEl =\n",
       "          document.querySelector('#df-18384210-bcc7-4daf-9501-f26e8ee2ec02 button.colab-df-convert');\n",
       "        buttonEl.style.display =\n",
       "          google.colab.kernel.accessAllowed ? 'block' : 'none';\n",
       "\n",
       "        async function convertToInteractive(key) {\n",
       "          const element = document.querySelector('#df-18384210-bcc7-4daf-9501-f26e8ee2ec02');\n",
       "          const dataTable =\n",
       "            await google.colab.kernel.invokeFunction('convertToInteractive',\n",
       "                                                     [key], {});\n",
       "          if (!dataTable) return;\n",
       "\n",
       "          const docLinkHtml = 'Like what you see? Visit the ' +\n",
       "            '<a target=\"_blank\" href=https://colab.research.google.com/notebooks/data_table.ipynb>data table notebook</a>'\n",
       "            + ' to learn more about interactive tables.';\n",
       "          element.innerHTML = '';\n",
       "          dataTable['output_type'] = 'display_data';\n",
       "          await google.colab.output.renderOutput(dataTable, element);\n",
       "          const docLink = document.createElement('div');\n",
       "          docLink.innerHTML = docLinkHtml;\n",
       "          element.appendChild(docLink);\n",
       "        }\n",
       "      </script>\n",
       "    </div>\n",
       "  </div>\n",
       "  "
      ]
     },
     "metadata": {},
     "execution_count": 6
    }
   ]
  },
  {
   "cell_type": "markdown",
   "source": [
    "Furthermore, the number of NaN values in each row is printed."
   ],
   "metadata": {
    "id": "kU6xfbWliEg_"
   }
  },
  {
   "cell_type": "code",
   "source": [
    "dataset.isna().sum()"
   ],
   "metadata": {
    "colab": {
     "base_uri": "https://localhost:8080/"
    },
    "id": "sZvxLX61gGkw",
    "outputId": "84158b56-8550-4bc9-8794-61ecf90a0720"
   },
   "execution_count": 7,
   "outputs": [
    {
     "output_type": "execute_result",
     "data": {
      "text/plain": [
       "Sales ID                          0\n",
       "Sales Price                       0\n",
       "Machine ID                        0\n",
       "Model ID                          0\n",
       "datasource                        0\n",
       "Auctioneer ID                 20136\n",
       "Year Made                         0\n",
       "MachineHours CurrentMeter    265194\n",
       "Usage Band                   339028\n",
       "Sales date                        0\n",
       "Model Description                 0\n",
       "Base Model                        0\n",
       "Secondary Description        140727\n",
       "Model Series                 354031\n",
       "Model Descriptor             337882\n",
       "Machine Size                 216605\n",
       "Product Class Description         0\n",
       "State of Usage                    0\n",
       "Product Group                     0\n",
       "Product Group Description         0\n",
       "Driver System                305611\n",
       "Enclosure                       334\n",
       "Control                      214983\n",
       "Touchpad Type                331602\n",
       "Control Type                 259970\n",
       "Version                      331602\n",
       "Transmission                 224691\n",
       "Turbo Charged                331602\n",
       "Extra features               386715\n",
       "Machine Width                386715\n",
       "Clean Room                   386715\n",
       "Engine Horsepower            386715\n",
       "Hydraulics                    82565\n",
       "Push Block                   386715\n",
       "Ripper                       305753\n",
       "Scarifier                    386704\n",
       "Tip Control                  386715\n",
       "Screen Size                  315060\n",
       "Coupler                      192019\n",
       "Couple System                367724\n",
       "Grouser Tracks               367823\n",
       "Hydraulics Flow              367823\n",
       "Tupper Type                  310505\n",
       "Screen Size.1                309782\n",
       "Stick Length                 310437\n",
       "Thumb                        310366\n",
       "Pattern Changer              310437\n",
       "Grouser Type                 310505\n",
       "Backhoe Mounting             331986\n",
       "Blade Type                   330823\n",
       "Travel Possibilities         330821\n",
       "Differential Type            341134\n",
       "Steering Controls            341176\n",
       "dtype: int64"
      ]
     },
     "metadata": {},
     "execution_count": 7
    }
   ]
  },
  {
   "cell_type": "markdown",
   "source": [
    "First of all, any rows that do not have an entry for the \"Sales Price\" variable must be dropped, as this is the response variable. Although this is not the case for the particular dataset being worked with, deletion should still be performed in case the model is trained on another dataset that contains empty \"Sales Price\" entries. Additionally, the columns \"Sales ID\", \"Machine ID\", and \"Model ID\" are not particularly useful as predictors and should also be dropped."
   ],
   "metadata": {
    "id": "es-TQaa6WxWZ"
   }
  },
  {
   "cell_type": "code",
   "source": [
    "response_variable = [\"Sales Price\"]\n",
    "dataset = dataset.dropna(subset=response_variable)\n",
    "dataset = dataset.drop(columns=[\"Sales ID\", \"Machine ID\", \"Model ID\"])"
   ],
   "metadata": {
    "id": "_MjaAN6hdFcJ"
   },
   "execution_count": 8,
   "outputs": []
  },
  {
   "cell_type": "markdown",
   "source": [
    "\"Sales date\" variables are converted to unix timestamps to make them processable for the model."
   ],
   "metadata": {
    "id": "FOTRAENhW67K"
   }
  },
  {
   "cell_type": "code",
   "source": [
    "dataset[\"Sales Timestamp\"] = pd.to_datetime(\n",
    "    dataset[\"Sales date\"]).view('int64') // 10**9\n",
    "dataset = dataset.drop(columns=[\"Sales date\"])"
   ],
   "metadata": {
    "id": "l17xUWCD_arL"
   },
   "execution_count": 9,
   "outputs": []
  },
  {
   "cell_type": "markdown",
   "source": [
    "Numerical and categorical variables have to be specified."
   ],
   "metadata": {
    "id": "pZallHPzaEvd"
   }
  },
  {
   "cell_type": "code",
   "source": [
    "numerical_variables = [\"Year Made\",\n",
    "                       \"MachineHours CurrentMeter\",\n",
    "                       \"Sales Timestamp\"]\n",
    "categorical_variables = [variable for variable in dataset.columns\n",
    "                         if variable not in numerical_variables\n",
    "                         and variable not in response_variable]"
   ],
   "metadata": {
    "id": "x4qfHHdWcOYs"
   },
   "execution_count": 10,
   "outputs": []
  },
  {
   "cell_type": "markdown",
   "source": [
    "Empty entries in the categorical variables are replaced with \"None or Unspecified\" to keep consistency with the rest of the dataset. Furthermore, amubiguous entries \"#NAME?\" are replaced with the same \"None or Unspecified\" flag.\n",
    "\n"
   ],
   "metadata": {
    "id": "lXO0_EPqegHE"
   }
  },
  {
   "cell_type": "code",
   "source": [
    "dataset[categorical_variables] = dataset[categorical_variables].where(\n",
    "    pd.notnull(dataset[categorical_variables]), \"None or Unspecified\")\n",
    "dataset = dataset.replace(\"#NAME?\", \"None or Unspecified\")"
   ],
   "metadata": {
    "id": "pAIyhkOwddhy"
   },
   "execution_count": 11,
   "outputs": []
  },
  {
   "cell_type": "markdown",
   "source": [
    "In order to gain insight into the dataset, a description table is created."
   ],
   "metadata": {
    "id": "H75lBP1Xe02K"
   }
  },
  {
   "cell_type": "code",
   "source": [
    "dataset[[variable for variable in (response_variable + numerical_variables)\n",
    "         if variable != \"Sales Timestamp\"]].describe().transpose()"
   ],
   "metadata": {
    "colab": {
     "base_uri": "https://localhost:8080/",
     "height": 143
    },
    "id": "bIuR0JghiB7-",
    "outputId": "b3140156-ae72-447c-8542-0ea3c31a5cf3"
   },
   "execution_count": 12,
   "outputs": [
    {
     "output_type": "execute_result",
     "data": {
      "text/plain": [
       "                              count          mean           std     min  \\\n",
       "Sales Price                412698.0  31215.181414  23141.743695  4750.0   \n",
       "Year Made                  412698.0   1899.049637    292.190243  1000.0   \n",
       "MachineHours CurrentMeter  147504.0   3522.988285  27169.928650     0.0   \n",
       "\n",
       "                               25%      50%      75%        max  \n",
       "Sales Price                14500.0  24000.0  40000.0   142000.0  \n",
       "Year Made                   1985.0   1995.0   2001.0     2014.0  \n",
       "MachineHours CurrentMeter      0.0      0.0   3209.0  2483300.0  "
      ],
      "text/html": [
       "\n",
       "  <div id=\"df-861a22f4-76d0-4092-8211-45800b1d7bb1\">\n",
       "    <div class=\"colab-df-container\">\n",
       "      <div>\n",
       "<style scoped>\n",
       "    .dataframe tbody tr th:only-of-type {\n",
       "        vertical-align: middle;\n",
       "    }\n",
       "\n",
       "    .dataframe tbody tr th {\n",
       "        vertical-align: top;\n",
       "    }\n",
       "\n",
       "    .dataframe thead th {\n",
       "        text-align: right;\n",
       "    }\n",
       "</style>\n",
       "<table border=\"1\" class=\"dataframe\">\n",
       "  <thead>\n",
       "    <tr style=\"text-align: right;\">\n",
       "      <th></th>\n",
       "      <th>count</th>\n",
       "      <th>mean</th>\n",
       "      <th>std</th>\n",
       "      <th>min</th>\n",
       "      <th>25%</th>\n",
       "      <th>50%</th>\n",
       "      <th>75%</th>\n",
       "      <th>max</th>\n",
       "    </tr>\n",
       "  </thead>\n",
       "  <tbody>\n",
       "    <tr>\n",
       "      <th>Sales Price</th>\n",
       "      <td>412698.0</td>\n",
       "      <td>31215.181414</td>\n",
       "      <td>23141.743695</td>\n",
       "      <td>4750.0</td>\n",
       "      <td>14500.0</td>\n",
       "      <td>24000.0</td>\n",
       "      <td>40000.0</td>\n",
       "      <td>142000.0</td>\n",
       "    </tr>\n",
       "    <tr>\n",
       "      <th>Year Made</th>\n",
       "      <td>412698.0</td>\n",
       "      <td>1899.049637</td>\n",
       "      <td>292.190243</td>\n",
       "      <td>1000.0</td>\n",
       "      <td>1985.0</td>\n",
       "      <td>1995.0</td>\n",
       "      <td>2001.0</td>\n",
       "      <td>2014.0</td>\n",
       "    </tr>\n",
       "    <tr>\n",
       "      <th>MachineHours CurrentMeter</th>\n",
       "      <td>147504.0</td>\n",
       "      <td>3522.988285</td>\n",
       "      <td>27169.928650</td>\n",
       "      <td>0.0</td>\n",
       "      <td>0.0</td>\n",
       "      <td>0.0</td>\n",
       "      <td>3209.0</td>\n",
       "      <td>2483300.0</td>\n",
       "    </tr>\n",
       "  </tbody>\n",
       "</table>\n",
       "</div>\n",
       "      <button class=\"colab-df-convert\" onclick=\"convertToInteractive('df-861a22f4-76d0-4092-8211-45800b1d7bb1')\"\n",
       "              title=\"Convert this dataframe to an interactive table.\"\n",
       "              style=\"display:none;\">\n",
       "        \n",
       "  <svg xmlns=\"http://www.w3.org/2000/svg\" height=\"24px\"viewBox=\"0 0 24 24\"\n",
       "       width=\"24px\">\n",
       "    <path d=\"M0 0h24v24H0V0z\" fill=\"none\"/>\n",
       "    <path d=\"M18.56 5.44l.94 2.06.94-2.06 2.06-.94-2.06-.94-.94-2.06-.94 2.06-2.06.94zm-11 1L8.5 8.5l.94-2.06 2.06-.94-2.06-.94L8.5 2.5l-.94 2.06-2.06.94zm10 10l.94 2.06.94-2.06 2.06-.94-2.06-.94-.94-2.06-.94 2.06-2.06.94z\"/><path d=\"M17.41 7.96l-1.37-1.37c-.4-.4-.92-.59-1.43-.59-.52 0-1.04.2-1.43.59L10.3 9.45l-7.72 7.72c-.78.78-.78 2.05 0 2.83L4 21.41c.39.39.9.59 1.41.59.51 0 1.02-.2 1.41-.59l7.78-7.78 2.81-2.81c.8-.78.8-2.07 0-2.86zM5.41 20L4 18.59l7.72-7.72 1.47 1.35L5.41 20z\"/>\n",
       "  </svg>\n",
       "      </button>\n",
       "      \n",
       "  <style>\n",
       "    .colab-df-container {\n",
       "      display:flex;\n",
       "      flex-wrap:wrap;\n",
       "      gap: 12px;\n",
       "    }\n",
       "\n",
       "    .colab-df-convert {\n",
       "      background-color: #E8F0FE;\n",
       "      border: none;\n",
       "      border-radius: 50%;\n",
       "      cursor: pointer;\n",
       "      display: none;\n",
       "      fill: #1967D2;\n",
       "      height: 32px;\n",
       "      padding: 0 0 0 0;\n",
       "      width: 32px;\n",
       "    }\n",
       "\n",
       "    .colab-df-convert:hover {\n",
       "      background-color: #E2EBFA;\n",
       "      box-shadow: 0px 1px 2px rgba(60, 64, 67, 0.3), 0px 1px 3px 1px rgba(60, 64, 67, 0.15);\n",
       "      fill: #174EA6;\n",
       "    }\n",
       "\n",
       "    [theme=dark] .colab-df-convert {\n",
       "      background-color: #3B4455;\n",
       "      fill: #D2E3FC;\n",
       "    }\n",
       "\n",
       "    [theme=dark] .colab-df-convert:hover {\n",
       "      background-color: #434B5C;\n",
       "      box-shadow: 0px 1px 3px 1px rgba(0, 0, 0, 0.15);\n",
       "      filter: drop-shadow(0px 1px 2px rgba(0, 0, 0, 0.3));\n",
       "      fill: #FFFFFF;\n",
       "    }\n",
       "  </style>\n",
       "\n",
       "      <script>\n",
       "        const buttonEl =\n",
       "          document.querySelector('#df-861a22f4-76d0-4092-8211-45800b1d7bb1 button.colab-df-convert');\n",
       "        buttonEl.style.display =\n",
       "          google.colab.kernel.accessAllowed ? 'block' : 'none';\n",
       "\n",
       "        async function convertToInteractive(key) {\n",
       "          const element = document.querySelector('#df-861a22f4-76d0-4092-8211-45800b1d7bb1');\n",
       "          const dataTable =\n",
       "            await google.colab.kernel.invokeFunction('convertToInteractive',\n",
       "                                                     [key], {});\n",
       "          if (!dataTable) return;\n",
       "\n",
       "          const docLinkHtml = 'Like what you see? Visit the ' +\n",
       "            '<a target=\"_blank\" href=https://colab.research.google.com/notebooks/data_table.ipynb>data table notebook</a>'\n",
       "            + ' to learn more about interactive tables.';\n",
       "          element.innerHTML = '';\n",
       "          dataTable['output_type'] = 'display_data';\n",
       "          await google.colab.output.renderOutput(dataTable, element);\n",
       "          const docLink = document.createElement('div');\n",
       "          docLink.innerHTML = docLinkHtml;\n",
       "          element.appendChild(docLink);\n",
       "        }\n",
       "      </script>\n",
       "    </div>\n",
       "  </div>\n",
       "  "
      ]
     },
     "metadata": {},
     "execution_count": 12
    }
   ]
  },
  {
   "cell_type": "markdown",
   "source": [
    "Numerical variables seem to contain some outliers. The minimal value of \"Year Made\" is 1000, which is obviously not possible. Moreover, the maximal value of \"MachineHours CurrentMeter\" is 2483300, which corresponds to over 283 years of continuous work. Such values need to be removed from the dataset. Furthermore, it can be noted that the \"Year Made\" column doesn't contain any empty entries,indicating that the value of 1000 could be a way of denoting an unknown values."
   ],
   "metadata": {
    "id": "enFiuKvse7zd"
   }
  },
  {
   "cell_type": "code",
   "execution_count": 13,
   "metadata": {
    "colab": {
     "base_uri": "https://localhost:8080/"
    },
    "id": "XgIgn7lpc94o",
    "outputId": "1fcd86d4-78fd-4339-ea55-fed475b611c6"
   },
   "outputs": [
    {
     "output_type": "stream",
     "name": "stdout",
     "text": [
      "Number of entries equal to 1000 in the \"Year Made\" column: 39391\n"
     ]
    }
   ],
   "source": [
    "print(\"Number of entries equal to 1000 in the \\\"Year Made\\\" column:\",\n",
    "      dataset[\"Year Made\"].value_counts()[1000])\n",
    "dataset[\"Year Made\"] = dataset[\"Year Made\"].replace(1000, np.nan)"
   ]
  },
  {
   "cell_type": "markdown",
   "source": [
    "Indeed, the number of entries equal to 1000 is 39391, which is too large to be a mere error. Therefore, it is assumed that it is an intentional way of denoting unknown values. For now, they are replaced with NaN values and will be imputed later. In order to remove remaining outliers, all rows that contain entries with z-score above 10 are removed. It is quite a large margin, but the goal is to remove only the unrealistic values."
   ],
   "metadata": {
    "id": "lnhoyioBkHKD"
   }
  },
  {
   "cell_type": "code",
   "source": [
    "def remove_outliers(dataset, columns):\n",
    "  max_zscore = 10\n",
    "  def zscore(x):\n",
    "    return np.abs((x - x.mean()) / x.std())\n",
    "\n",
    "  for column in columns:\n",
    "    dataset = dataset[np.logical_or(zscore(dataset[column]) < max_zscore,\n",
    "                                    np.isnan(dataset[column]))]\n",
    "  \n",
    "  return dataset\n",
    "\n",
    "dataset = remove_outliers(dataset, numerical_variables)"
   ],
   "metadata": {
    "id": "87q4aRxeohK7"
   },
   "execution_count": 14,
   "outputs": []
  },
  {
   "cell_type": "markdown",
   "source": [
    "In order to verify the elimination of outliers, the description table is generated once again."
   ],
   "metadata": {
    "id": "kHzDw6hvoDGq"
   }
  },
  {
   "cell_type": "code",
   "source": [
    "dataset[[variable for variable in (response_variable + numerical_variables)\n",
    "         if variable != \"Sales Timestamp\"]].describe().transpose()"
   ],
   "metadata": {
    "colab": {
     "base_uri": "https://localhost:8080/",
     "height": 143
    },
    "id": "4MjL6ME5k8Tr",
    "outputId": "964448ff-0657-4745-c73f-4936e4a80a22"
   },
   "execution_count": 15,
   "outputs": [
    {
     "output_type": "execute_result",
     "data": {
      "text/plain": [
       "                              count          mean           std     min  \\\n",
       "Sales Price                412482.0  31215.564289  23141.337055  4750.0   \n",
       "Year Made                  373136.0   1993.914251      9.689573  1919.0   \n",
       "MachineHours CurrentMeter  147288.0   2672.779697   8348.926282     0.0   \n",
       "\n",
       "                               25%      50%      75%       max  \n",
       "Sales Price                14500.0  24000.0  40000.0  142000.0  \n",
       "Year Made                   1988.0   1996.0   2001.0    2014.0  \n",
       "MachineHours CurrentMeter      0.0      0.0   3192.0  274900.0  "
      ],
      "text/html": [
       "\n",
       "  <div id=\"df-8b1a45c9-9eb5-40ce-9b3c-30803bac327d\">\n",
       "    <div class=\"colab-df-container\">\n",
       "      <div>\n",
       "<style scoped>\n",
       "    .dataframe tbody tr th:only-of-type {\n",
       "        vertical-align: middle;\n",
       "    }\n",
       "\n",
       "    .dataframe tbody tr th {\n",
       "        vertical-align: top;\n",
       "    }\n",
       "\n",
       "    .dataframe thead th {\n",
       "        text-align: right;\n",
       "    }\n",
       "</style>\n",
       "<table border=\"1\" class=\"dataframe\">\n",
       "  <thead>\n",
       "    <tr style=\"text-align: right;\">\n",
       "      <th></th>\n",
       "      <th>count</th>\n",
       "      <th>mean</th>\n",
       "      <th>std</th>\n",
       "      <th>min</th>\n",
       "      <th>25%</th>\n",
       "      <th>50%</th>\n",
       "      <th>75%</th>\n",
       "      <th>max</th>\n",
       "    </tr>\n",
       "  </thead>\n",
       "  <tbody>\n",
       "    <tr>\n",
       "      <th>Sales Price</th>\n",
       "      <td>412482.0</td>\n",
       "      <td>31215.564289</td>\n",
       "      <td>23141.337055</td>\n",
       "      <td>4750.0</td>\n",
       "      <td>14500.0</td>\n",
       "      <td>24000.0</td>\n",
       "      <td>40000.0</td>\n",
       "      <td>142000.0</td>\n",
       "    </tr>\n",
       "    <tr>\n",
       "      <th>Year Made</th>\n",
       "      <td>373136.0</td>\n",
       "      <td>1993.914251</td>\n",
       "      <td>9.689573</td>\n",
       "      <td>1919.0</td>\n",
       "      <td>1988.0</td>\n",
       "      <td>1996.0</td>\n",
       "      <td>2001.0</td>\n",
       "      <td>2014.0</td>\n",
       "    </tr>\n",
       "    <tr>\n",
       "      <th>MachineHours CurrentMeter</th>\n",
       "      <td>147288.0</td>\n",
       "      <td>2672.779697</td>\n",
       "      <td>8348.926282</td>\n",
       "      <td>0.0</td>\n",
       "      <td>0.0</td>\n",
       "      <td>0.0</td>\n",
       "      <td>3192.0</td>\n",
       "      <td>274900.0</td>\n",
       "    </tr>\n",
       "  </tbody>\n",
       "</table>\n",
       "</div>\n",
       "      <button class=\"colab-df-convert\" onclick=\"convertToInteractive('df-8b1a45c9-9eb5-40ce-9b3c-30803bac327d')\"\n",
       "              title=\"Convert this dataframe to an interactive table.\"\n",
       "              style=\"display:none;\">\n",
       "        \n",
       "  <svg xmlns=\"http://www.w3.org/2000/svg\" height=\"24px\"viewBox=\"0 0 24 24\"\n",
       "       width=\"24px\">\n",
       "    <path d=\"M0 0h24v24H0V0z\" fill=\"none\"/>\n",
       "    <path d=\"M18.56 5.44l.94 2.06.94-2.06 2.06-.94-2.06-.94-.94-2.06-.94 2.06-2.06.94zm-11 1L8.5 8.5l.94-2.06 2.06-.94-2.06-.94L8.5 2.5l-.94 2.06-2.06.94zm10 10l.94 2.06.94-2.06 2.06-.94-2.06-.94-.94-2.06-.94 2.06-2.06.94z\"/><path d=\"M17.41 7.96l-1.37-1.37c-.4-.4-.92-.59-1.43-.59-.52 0-1.04.2-1.43.59L10.3 9.45l-7.72 7.72c-.78.78-.78 2.05 0 2.83L4 21.41c.39.39.9.59 1.41.59.51 0 1.02-.2 1.41-.59l7.78-7.78 2.81-2.81c.8-.78.8-2.07 0-2.86zM5.41 20L4 18.59l7.72-7.72 1.47 1.35L5.41 20z\"/>\n",
       "  </svg>\n",
       "      </button>\n",
       "      \n",
       "  <style>\n",
       "    .colab-df-container {\n",
       "      display:flex;\n",
       "      flex-wrap:wrap;\n",
       "      gap: 12px;\n",
       "    }\n",
       "\n",
       "    .colab-df-convert {\n",
       "      background-color: #E8F0FE;\n",
       "      border: none;\n",
       "      border-radius: 50%;\n",
       "      cursor: pointer;\n",
       "      display: none;\n",
       "      fill: #1967D2;\n",
       "      height: 32px;\n",
       "      padding: 0 0 0 0;\n",
       "      width: 32px;\n",
       "    }\n",
       "\n",
       "    .colab-df-convert:hover {\n",
       "      background-color: #E2EBFA;\n",
       "      box-shadow: 0px 1px 2px rgba(60, 64, 67, 0.3), 0px 1px 3px 1px rgba(60, 64, 67, 0.15);\n",
       "      fill: #174EA6;\n",
       "    }\n",
       "\n",
       "    [theme=dark] .colab-df-convert {\n",
       "      background-color: #3B4455;\n",
       "      fill: #D2E3FC;\n",
       "    }\n",
       "\n",
       "    [theme=dark] .colab-df-convert:hover {\n",
       "      background-color: #434B5C;\n",
       "      box-shadow: 0px 1px 3px 1px rgba(0, 0, 0, 0.15);\n",
       "      filter: drop-shadow(0px 1px 2px rgba(0, 0, 0, 0.3));\n",
       "      fill: #FFFFFF;\n",
       "    }\n",
       "  </style>\n",
       "\n",
       "      <script>\n",
       "        const buttonEl =\n",
       "          document.querySelector('#df-8b1a45c9-9eb5-40ce-9b3c-30803bac327d button.colab-df-convert');\n",
       "        buttonEl.style.display =\n",
       "          google.colab.kernel.accessAllowed ? 'block' : 'none';\n",
       "\n",
       "        async function convertToInteractive(key) {\n",
       "          const element = document.querySelector('#df-8b1a45c9-9eb5-40ce-9b3c-30803bac327d');\n",
       "          const dataTable =\n",
       "            await google.colab.kernel.invokeFunction('convertToInteractive',\n",
       "                                                     [key], {});\n",
       "          if (!dataTable) return;\n",
       "\n",
       "          const docLinkHtml = 'Like what you see? Visit the ' +\n",
       "            '<a target=\"_blank\" href=https://colab.research.google.com/notebooks/data_table.ipynb>data table notebook</a>'\n",
       "            + ' to learn more about interactive tables.';\n",
       "          element.innerHTML = '';\n",
       "          dataTable['output_type'] = 'display_data';\n",
       "          await google.colab.output.renderOutput(dataTable, element);\n",
       "          const docLink = document.createElement('div');\n",
       "          docLink.innerHTML = docLinkHtml;\n",
       "          element.appendChild(docLink);\n",
       "        }\n",
       "      </script>\n",
       "    </div>\n",
       "  </div>\n",
       "  "
      ]
     },
     "metadata": {},
     "execution_count": 15
    }
   ]
  },
  {
   "cell_type": "markdown",
   "source": [
    "After the outliers have been removed, the dataset looks significantly cleaner and the minimal and maximal values look realistic. At this point only \"Year Made\" and \"MachineHours CurrentMeter\" columns contain NaN values. Their number is quite significant, as they are present in over a half of the dataset. Therefore, they will have to be imputed.\n",
    "\n",
    "Ideally, the data would be imputed with a more sophisticated algorithm, such as KNN. Unfortunately, KNN doesn't scale well for large dataset and hence implementing it in this particular case proved to be infeasible, considering the amount of available computational power. Therefore, data will be imputed by taking the mean of entries. This method is considered to be relatively accurate in this case, as the outliers have been removed."
   ],
   "metadata": {
    "id": "dZLS2IInfXYF"
   }
  },
  {
   "cell_type": "code",
   "source": [
    "dataset[\"Year Made\"].fillna(\n",
    "    value=dataset[\"Year Made\"].mean(), inplace=True)\n",
    "dataset[\"MachineHours CurrentMeter\"].fillna(\n",
    "    value=dataset[\"MachineHours CurrentMeter\"].mean(), inplace=True)"
   ],
   "metadata": {
    "id": "2xTiX6ulzD4Y"
   },
   "execution_count": 16,
   "outputs": []
  },
  {
   "cell_type": "markdown",
   "source": [
    "Now, data types of the dataset can be examined."
   ],
   "metadata": {
    "id": "grHDAAiofk4J"
   }
  },
  {
   "cell_type": "code",
   "source": [
    "dataset.dtypes"
   ],
   "metadata": {
    "colab": {
     "base_uri": "https://localhost:8080/"
    },
    "id": "lrv1_odFzq2Y",
    "outputId": "92e8a23c-5f0e-4e9e-faa3-12c95861e4bf"
   },
   "execution_count": 17,
   "outputs": [
    {
     "output_type": "execute_result",
     "data": {
      "text/plain": [
       "Sales Price                  float64\n",
       "datasource                    string\n",
       "Auctioneer ID                 object\n",
       "Year Made                    float64\n",
       "MachineHours CurrentMeter    float64\n",
       "Usage Band                    object\n",
       "Model Description             object\n",
       "Base Model                    object\n",
       "Secondary Description         object\n",
       "Model Series                  string\n",
       "Model Descriptor              object\n",
       "Machine Size                  object\n",
       "Product Class Description     object\n",
       "State of Usage                object\n",
       "Product Group                 object\n",
       "Product Group Description     object\n",
       "Driver System                 object\n",
       "Enclosure                     object\n",
       "Control                       object\n",
       "Touchpad Type                 object\n",
       "Control Type                  object\n",
       "Version                       object\n",
       "Transmission                  object\n",
       "Turbo Charged                 object\n",
       "Extra features                object\n",
       "Machine Width                 object\n",
       "Clean Room                    object\n",
       "Engine Horsepower             object\n",
       "Hydraulics                    object\n",
       "Push Block                    object\n",
       "Ripper                        object\n",
       "Scarifier                     object\n",
       "Tip Control                   object\n",
       "Screen Size                   object\n",
       "Coupler                       object\n",
       "Couple System                 string\n",
       "Grouser Tracks                string\n",
       "Hydraulics Flow               string\n",
       "Tupper Type                   object\n",
       "Screen Size.1                 object\n",
       "Stick Length                  object\n",
       "Thumb                         object\n",
       "Pattern Changer               object\n",
       "Grouser Type                  object\n",
       "Backhoe Mounting              object\n",
       "Blade Type                    object\n",
       "Travel Possibilities          object\n",
       "Differential Type             object\n",
       "Steering Controls             object\n",
       "Sales Timestamp                int64\n",
       "dtype: object"
      ]
     },
     "metadata": {},
     "execution_count": 17
    }
   ]
  },
  {
   "cell_type": "markdown",
   "source": [
    "In order to be processed by the model, numerical variables have to be converted into floats and categorical variables into strings."
   ],
   "metadata": {
    "id": "X595lrr-h7ak"
   }
  },
  {
   "cell_type": "code",
   "source": [
    "dataset[numerical_variables] = dataset[numerical_variables].astype(float)\n",
    "dataset[categorical_variables] = dataset[categorical_variables].astype('string')"
   ],
   "metadata": {
    "id": "GuyZIdMRCxbD"
   },
   "execution_count": 18,
   "outputs": []
  },
  {
   "cell_type": "markdown",
   "source": [
    "##### Creating training and test sets\n",
    "\n",
    "Since the data is in a form of time series, it has to be approached chronologically. Sales date needs to be taken into account in order to model phenomena such as inflation. Moreover, it would be wrong to create training and test sets by sampling the dataset randomly, since it would essentially imply training on \"future\" data and testing on \"past\" data. The goal of training set is to confront the model with unseen data and simulate the real application as closely as possible. Therefore, the dataset is sorted by timestamp and subsequently splitted in a chronological manner."
   ],
   "metadata": {
    "id": "oyQiVLG-lLIf"
   }
  },
  {
   "cell_type": "code",
   "execution_count": 19,
   "metadata": {
    "id": "BbGHy0HgWIpX"
   },
   "outputs": [],
   "source": [
    "dataset = dataset.sort_values(by=[\"Sales Timestamp\"])\n",
    "\n",
    "test_train_ratio = 0.8\n",
    "train_dataset = dataset.head(round(test_train_ratio * dataset.shape[0]))\n",
    "test_dataset = dataset.tail(round((1 - test_train_ratio) * dataset.shape[0]))"
   ]
  },
  {
   "cell_type": "markdown",
   "source": [
    "Furthermore, explanatory and prediction variables have to be separated."
   ],
   "metadata": {
    "id": "B47IXqLNl1xl"
   }
  },
  {
   "cell_type": "code",
   "execution_count": 20,
   "metadata": {
    "id": "mAyOZvK0WThM"
   },
   "outputs": [],
   "source": [
    "x_train = train_dataset.drop(columns=response_variable)\n",
    "x_test = test_dataset.drop(columns=response_variable)\n",
    "\n",
    "y_train = train_dataset[response_variable]\n",
    "y_test = test_dataset[response_variable]"
   ]
  },
  {
   "cell_type": "markdown",
   "source": [
    "##### Data visualisation\n",
    "\n",
    "Numerical variables can be visualised on a pair plot in order to visualise relations between variables. "
   ],
   "metadata": {
    "id": "vJzaiX5vlTln"
   }
  },
  {
   "cell_type": "code",
   "execution_count": 21,
   "metadata": {
    "colab": {
     "base_uri": "https://localhost:8080/",
     "height": 744
    },
    "id": "kwtvPqvncLtd",
    "outputId": "4a19446e-9a76-4802-a0ba-122a7912642e"
   },
   "outputs": [
    {
     "output_type": "execute_result",
     "data": {
      "text/plain": [
       "<seaborn.axisgrid.PairGrid at 0x7f23d36a7040>"
      ]
     },
     "metadata": {},
     "execution_count": 21
    },
    {
     "output_type": "display_data",
     "data": {
      "text/plain": [
       "<Figure size 720x720 with 20 Axes>"
      ],
      "image/png": "[encoded data removed]"
     },
     "metadata": {
      "needs_background": "light"
     }
    }
   ],
   "source": [
    "sns.pairplot(train_dataset[response_variable + numerical_variables].sample(\n",
    "    frac=0.0005, random_state=0), diag_kind='kde')"
   ]
  },
  {
   "cell_type": "markdown",
   "source": [
    "The top row indicates that \"Sales Price\" is a function of other numerical variables."
   ],
   "metadata": {
    "id": "tYUEee60zb2r"
   }
  },
  {
   "cell_type": "markdown",
   "source": [
    "# Modelling"
   ],
   "metadata": {
    "id": "Y_TlsXfx-1hh"
   }
  },
  {
   "cell_type": "markdown",
   "source": [
    "##### Training normalisation and encoding layers\n",
    "\n",
    "Since there is a lot of data avaialble, it is decided to use neural network to build the model. In order to ensure its universality, normalisation of numerical variables and encoding of categorical variables will be handled within the model's architecture. The former is achieved by a Keras' Normalisation layer and the latter by a Keras' StringLookup later. Encoding is created using the multi hot method, which encodes each sample in the input into a single array the same size as the vocabulary, containing a 1 for each vocabulary term present in the sample."
   ],
   "metadata": {
    "id": "KThFsbxwl4oY"
   }
  },
  {
   "cell_type": "code",
   "execution_count": null,
   "metadata": {
    "id": "WW04y_AtgYSO"
   },
   "outputs": [],
   "source": [
    "normalizer = tf.keras.layers.Normalization(axis=-1)\n",
    "normalizer.adapt(x_train[numerical_variables])\n",
    "\n",
    "encoder = layers.StringLookup(output_mode='multi_hot')\n",
    "encoder.adapt(x_train[categorical_variables])"
   ]
  },
  {
   "cell_type": "markdown",
   "source": [
    "##### Building the model\n",
    "\n",
    "The model begins with 2 input layers that receive numerical and categorical variables. These inputs are then converted by their respective preprocessing layers and contatenated into one tensor. This tensor is then passed to 4 dense layers that calculate the output. In order to prevent overfitting, l2 regularisation as well as dropout layers are implemented. Mean absolute error is selected as loss function."
   ],
   "metadata": {
    "id": "bEkqqN-fFy9K"
   }
  },
  {
   "cell_type": "code",
   "source": [
    "def build_and_compile_model():\n",
    "  input_numerical = layers.Input(shape=(3,))\n",
    "  input_categorical = layers.Input(shape=(46,), dtype=tf.string)\n",
    "  \n",
    "  input_numerical_normalized = normalizer(input_numerical)\n",
    "  input_categorical_encoded = encoder(input_categorical)\n",
    "\n",
    "  x = layers.Concatenate(axis=1)([input_numerical_normalized,\n",
    "                                  input_categorical_encoded])\n",
    "\n",
    "  x = layers.Dense(256, activation='relu',\n",
    "                   kernel_regularizer=regularizers.l2(0.0001))(x)\n",
    "  x = layers.Dropout(0.5)(x)\n",
    "  x = layers.Dense(256, activation='relu',\n",
    "                   kernel_regularizer=regularizers.l2(0.0001))(x)\n",
    "  x = layers.Dropout(0.5)(x)\n",
    "  x = layers.Dense(64, activation='relu',\n",
    "                   kernel_regularizer=regularizers.l2(0.0001))(x)\n",
    "  x = layers.Dropout(0.5)(x)\n",
    "  output = layers.Dense(1)(x)\n",
    "\n",
    "  model = keras.Model(inputs=[input_numerical,input_categorical],\n",
    "                      outputs=output)\n",
    "\n",
    "  model.compile(loss='mean_absolute_error',\n",
    "                optimizer=tf.keras.optimizers.Adam(0.001))\n",
    "\n",
    "  return model"
   ],
   "metadata": {
    "id": "aidg1WPyElFk"
   },
   "execution_count": null,
   "outputs": []
  },
  {
   "cell_type": "code",
   "execution_count": null,
   "metadata": {
    "colab": {
     "base_uri": "https://localhost:8080/"
    },
    "id": "dl1l1nYjkCHZ",
    "outputId": "bea36d52-3d3b-4dd4-b4b4-7a90e28b6cb2"
   },
   "outputs": [
    {
     "output_type": "stream",
     "name": "stdout",
     "text": [
      "Model: \"model\"\n",
      "__________________________________________________________________________________________________\n",
      " Layer (type)                   Output Shape         Param #     Connected to                     \n",
      "==================================================================================================\n",
      " input_1 (InputLayer)           [(None, 3)]          0           []                               \n",
      "                                                                                                  \n",
      " input_2 (InputLayer)           [(None, 46)]         0           []                               \n",
      "                                                                                                  \n",
      " normalization (Normalization)  (None, 3)            7           ['input_1[0][0]']                \n",
      "                                                                                                  \n",
      " string_lookup (StringLookup)   (None, 5565)         0           ['input_2[0][0]']                \n",
      "                                                                                                  \n",
      " concatenate (Concatenate)      (None, 5568)         0           ['normalization[0][0]',          \n",
      "                                                                  'string_lookup[0][0]']          \n",
      "                                                                                                  \n",
      " dense (Dense)                  (None, 256)          1425664     ['concatenate[0][0]']            \n",
      "                                                                                                  \n",
      " dropout (Dropout)              (None, 256)          0           ['dense[0][0]']                  \n",
      "                                                                                                  \n",
      " dense_1 (Dense)                (None, 256)          65792       ['dropout[0][0]']                \n",
      "                                                                                                  \n",
      " dropout_1 (Dropout)            (None, 256)          0           ['dense_1[0][0]']                \n",
      "                                                                                                  \n",
      " dense_2 (Dense)                (None, 64)           16448       ['dropout_1[0][0]']              \n",
      "                                                                                                  \n",
      " dropout_2 (Dropout)            (None, 64)           0           ['dense_2[0][0]']                \n",
      "                                                                                                  \n",
      " dense_3 (Dense)                (None, 1)            65          ['dropout_2[0][0]']              \n",
      "                                                                                                  \n",
      "==================================================================================================\n",
      "Total params: 1,507,976\n",
      "Trainable params: 1,507,969\n",
      "Non-trainable params: 7\n",
      "__________________________________________________________________________________________________\n"
     ]
    }
   ],
   "source": [
    "model = build_and_compile_model()\n",
    "model.summary()"
   ]
  },
  {
   "cell_type": "markdown",
   "source": [
    "##### Training the model\n",
    "\n",
    "Model weights are saved after each epoch as a checkpoint."
   ],
   "metadata": {
    "id": "pu2vhcPBmB4T"
   }
  },
  {
   "cell_type": "code",
   "execution_count": null,
   "metadata": {
    "id": "9BzRC-BEkIAO",
    "colab": {
     "base_uri": "https://localhost:8080/"
    },
    "outputId": "efc1e484-3393-4846-f786-2b97c8261868"
   },
   "outputs": [
    {
     "output_type": "stream",
     "name": "stdout",
     "text": [
      "Epoch 1/50\n",
      "1290/1290 [==============================] - ETA: 0s - loss: 10465.9336\n",
      "Epoch 1: val_loss improved from inf to 7344.12646, saving model to drive/MyDrive/Bit/training/cp.ckpt\n",
      "1290/1290 [==============================] - 186s 143ms/step - loss: 10465.9336 - val_loss: 7344.1265\n",
      "Epoch 2/50\n",
      "1290/1290 [==============================] - ETA: 0s - loss: 7491.4077\n",
      "Epoch 2: val_loss improved from 7344.12646 to 7069.86035, saving model to drive/MyDrive/Bit/training/cp.ckpt\n",
      "1290/1290 [==============================] - 183s 142ms/step - loss: 7491.4077 - val_loss: 7069.8604\n",
      "Epoch 3/50\n",
      "1290/1290 [==============================] - ETA: 0s - loss: 7262.4370\n",
      "Epoch 3: val_loss improved from 7069.86035 to 6643.18604, saving model to drive/MyDrive/Bit/training/cp.ckpt\n",
      "1290/1290 [==============================] - 186s 144ms/step - loss: 7262.4370 - val_loss: 6643.1860\n",
      "Epoch 4/50\n",
      "1290/1290 [==============================] - ETA: 0s - loss: 7139.1475\n",
      "Epoch 4: val_loss did not improve from 6643.18604\n",
      "1290/1290 [==============================] - 199s 154ms/step - loss: 7139.1475 - val_loss: 6722.5005\n",
      "Epoch 5/50\n",
      "1290/1290 [==============================] - ETA: 0s - loss: 7064.4893\n",
      "Epoch 5: val_loss did not improve from 6643.18604\n",
      "1290/1290 [==============================] - 187s 145ms/step - loss: 7064.4893 - val_loss: 6644.7983\n",
      "Epoch 6/50\n",
      "1290/1290 [==============================] - ETA: 0s - loss: 7023.4517\n",
      "Epoch 6: val_loss did not improve from 6643.18604\n",
      "1290/1290 [==============================] - 188s 146ms/step - loss: 7023.4517 - val_loss: 6674.5010\n",
      "Epoch 7/50\n",
      "1290/1290 [==============================] - ETA: 0s - loss: 6980.8501\n",
      "Epoch 7: val_loss improved from 6643.18604 to 6502.22998, saving model to drive/MyDrive/Bit/training/cp.ckpt\n",
      "1290/1290 [==============================] - 176s 137ms/step - loss: 6980.8501 - val_loss: 6502.2300\n",
      "Epoch 8/50\n",
      "1290/1290 [==============================] - ETA: 0s - loss: 6961.0518\n",
      "Epoch 8: val_loss did not improve from 6502.22998\n",
      "1290/1290 [==============================] - 180s 140ms/step - loss: 6961.0518 - val_loss: 6847.4707\n",
      "Epoch 9/50\n",
      "1290/1290 [==============================] - ETA: 0s - loss: 6928.6816\n",
      "Epoch 9: val_loss did not improve from 6502.22998\n",
      "1290/1290 [==============================] - 189s 146ms/step - loss: 6928.6816 - val_loss: 6609.9194\n",
      "Epoch 10/50\n",
      "1290/1290 [==============================] - ETA: 0s - loss: 6899.5112\n",
      "Epoch 10: val_loss did not improve from 6502.22998\n",
      "1290/1290 [==============================] - 187s 145ms/step - loss: 6899.5112 - val_loss: 6764.9829\n",
      "Epoch 11/50\n",
      "1290/1290 [==============================] - ETA: 0s - loss: 6866.9946\n",
      "Epoch 11: val_loss did not improve from 6502.22998\n",
      "1290/1290 [==============================] - 178s 138ms/step - loss: 6866.9946 - val_loss: 6816.3237\n",
      "Epoch 12/50\n",
      "1290/1290 [==============================] - ETA: 0s - loss: 6857.7139\n",
      "Epoch 12: val_loss did not improve from 6502.22998\n",
      "1290/1290 [==============================] - 186s 144ms/step - loss: 6857.7139 - val_loss: 6718.0142\n",
      "Epoch 13/50\n",
      "1290/1290 [==============================] - ETA: 0s - loss: 6829.0337\n",
      "Epoch 13: val_loss did not improve from 6502.22998\n",
      "1290/1290 [==============================] - 185s 143ms/step - loss: 6829.0337 - val_loss: 6633.2197\n",
      "Epoch 14/50\n",
      "1290/1290 [==============================] - ETA: 0s - loss: 6802.0649\n",
      "Epoch 14: val_loss did not improve from 6502.22998\n",
      "1290/1290 [==============================] - 196s 152ms/step - loss: 6802.0649 - val_loss: 6665.2441\n",
      "Epoch 15/50\n",
      "1290/1290 [==============================] - ETA: 0s - loss: 6794.3574\n",
      "Epoch 15: val_loss did not improve from 6502.22998\n",
      "1290/1290 [==============================] - 184s 143ms/step - loss: 6794.3574 - val_loss: 6723.5811\n",
      "Epoch 16/50\n",
      "1290/1290 [==============================] - ETA: 0s - loss: 6754.8296\n",
      "Epoch 16: val_loss improved from 6502.22998 to 6478.70557, saving model to drive/MyDrive/Bit/training/cp.ckpt\n",
      "1290/1290 [==============================] - 176s 137ms/step - loss: 6754.8296 - val_loss: 6478.7056\n",
      "Epoch 17/50\n",
      "1290/1290 [==============================] - ETA: 0s - loss: 6770.3052\n",
      "Epoch 17: val_loss did not improve from 6478.70557\n",
      "1290/1290 [==============================] - 176s 137ms/step - loss: 6770.3052 - val_loss: 6560.4175\n",
      "Epoch 18/50\n",
      "1290/1290 [==============================] - ETA: 0s - loss: 6744.6152\n",
      "Epoch 18: val_loss did not improve from 6478.70557\n",
      "1290/1290 [==============================] - 177s 137ms/step - loss: 6744.6152 - val_loss: 6582.7603\n",
      "Epoch 19/50\n",
      "1290/1290 [==============================] - ETA: 0s - loss: 6718.1821\n",
      "Epoch 19: val_loss did not improve from 6478.70557\n",
      "1290/1290 [==============================] - 185s 143ms/step - loss: 6718.1821 - val_loss: 6660.0015\n",
      "Epoch 20/50\n",
      "1290/1290 [==============================] - ETA: 0s - loss: 6714.9385\n",
      "Epoch 20: val_loss improved from 6478.70557 to 6472.77539, saving model to drive/MyDrive/Bit/training/cp.ckpt\n",
      "1290/1290 [==============================] - 188s 146ms/step - loss: 6714.9385 - val_loss: 6472.7754\n",
      "Epoch 21/50\n",
      "1290/1290 [==============================] - ETA: 0s - loss: 6697.6733\n",
      "Epoch 21: val_loss did not improve from 6472.77539\n",
      "1290/1290 [==============================] - 178s 138ms/step - loss: 6697.6733 - val_loss: 6722.1367\n",
      "Epoch 22/50\n",
      "1290/1290 [==============================] - ETA: 0s - loss: 6696.1665\n",
      "Epoch 22: val_loss improved from 6472.77539 to 6434.75049, saving model to drive/MyDrive/Bit/training/cp.ckpt\n",
      "1290/1290 [==============================] - 187s 145ms/step - loss: 6696.1665 - val_loss: 6434.7505\n",
      "Epoch 23/50\n",
      "1290/1290 [==============================] - ETA: 0s - loss: 6686.4116\n",
      "Epoch 23: val_loss did not improve from 6434.75049\n",
      "1290/1290 [==============================] - 190s 147ms/step - loss: 6686.4116 - val_loss: 6553.8774\n",
      "Epoch 24/50\n",
      "1290/1290 [==============================] - ETA: 0s - loss: 6676.7529\n",
      "Epoch 24: val_loss did not improve from 6434.75049\n",
      "1290/1290 [==============================] - 188s 145ms/step - loss: 6676.7529 - val_loss: 6715.3804\n",
      "Epoch 25/50\n",
      "1290/1290 [==============================] - ETA: 0s - loss: 6680.5269\n",
      "Epoch 25: val_loss did not improve from 6434.75049\n",
      "1290/1290 [==============================] - 179s 139ms/step - loss: 6680.5269 - val_loss: 6773.0933\n",
      "Epoch 26/50\n",
      "1290/1290 [==============================] - ETA: 0s - loss: 6673.0552\n",
      "Epoch 26: val_loss did not improve from 6434.75049\n",
      "1290/1290 [==============================] - 186s 145ms/step - loss: 6673.0552 - val_loss: 6905.6665\n",
      "Epoch 27/50\n",
      "1290/1290 [==============================] - ETA: 0s - loss: 6663.8101\n",
      "Epoch 27: val_loss did not improve from 6434.75049\n",
      "1290/1290 [==============================] - 198s 154ms/step - loss: 6663.8101 - val_loss: 6847.4678\n",
      "Epoch 28/50\n",
      "1290/1290 [==============================] - ETA: 0s - loss: 6662.5386\n",
      "Epoch 28: val_loss did not improve from 6434.75049\n",
      "1290/1290 [==============================] - 200s 155ms/step - loss: 6662.5386 - val_loss: 6789.8340\n",
      "Epoch 29/50\n",
      "1290/1290 [==============================] - ETA: 0s - loss: 6650.6245\n",
      "Epoch 29: val_loss did not improve from 6434.75049\n",
      "1290/1290 [==============================] - 179s 139ms/step - loss: 6650.6245 - val_loss: 6661.8696\n",
      "Epoch 30/50\n",
      "1290/1290 [==============================] - ETA: 0s - loss: 6631.3999\n",
      "Epoch 30: val_loss did not improve from 6434.75049\n",
      "1290/1290 [==============================] - 181s 140ms/step - loss: 6631.3999 - val_loss: 6680.2769\n",
      "Epoch 31/50\n",
      "1290/1290 [==============================] - ETA: 0s - loss: 6632.0620\n",
      "Epoch 31: val_loss did not improve from 6434.75049\n",
      "1290/1290 [==============================] - 188s 146ms/step - loss: 6632.0620 - val_loss: 6762.3350\n",
      "Epoch 32/50\n",
      "1290/1290 [==============================] - ETA: 0s - loss: 6636.7246\n",
      "Epoch 32: val_loss did not improve from 6434.75049\n",
      "1290/1290 [==============================] - 187s 145ms/step - loss: 6636.7246 - val_loss: 6517.4668\n",
      "Epoch 33/50\n",
      "1290/1290 [==============================] - ETA: 0s - loss: 6624.8394\n",
      "Epoch 33: val_loss did not improve from 6434.75049\n",
      "1290/1290 [==============================] - 187s 145ms/step - loss: 6624.8394 - val_loss: 6808.8022\n",
      "Epoch 34/50\n",
      "1290/1290 [==============================] - ETA: 0s - loss: 6622.6123\n",
      "Epoch 34: val_loss did not improve from 6434.75049\n",
      "1290/1290 [==============================] - 186s 144ms/step - loss: 6622.6123 - val_loss: 6595.6348\n",
      "Epoch 35/50\n",
      "1290/1290 [==============================] - ETA: 0s - loss: 6609.2666\n",
      "Epoch 35: val_loss did not improve from 6434.75049\n",
      "1290/1290 [==============================] - 193s 150ms/step - loss: 6609.2666 - val_loss: 6586.0410\n",
      "Epoch 36/50\n",
      "1290/1290 [==============================] - ETA: 0s - loss: 6597.3921\n",
      "Epoch 36: val_loss did not improve from 6434.75049\n",
      "1290/1290 [==============================] - 198s 153ms/step - loss: 6597.3921 - val_loss: 6565.6533\n",
      "Epoch 37/50\n",
      "1290/1290 [==============================] - ETA: 0s - loss: 6604.2007\n",
      "Epoch 37: val_loss did not improve from 6434.75049\n",
      "1290/1290 [==============================] - 211s 163ms/step - loss: 6604.2007 - val_loss: 6812.1953\n",
      "Epoch 38/50\n",
      "1290/1290 [==============================] - ETA: 0s - loss: 6590.1943\n",
      "Epoch 38: val_loss did not improve from 6434.75049\n",
      "1290/1290 [==============================] - 201s 156ms/step - loss: 6590.1943 - val_loss: 6620.7085\n",
      "Epoch 39/50\n",
      "1290/1290 [==============================] - ETA: 0s - loss: 6588.8779\n",
      "Epoch 39: val_loss did not improve from 6434.75049\n",
      "1290/1290 [==============================] - 187s 145ms/step - loss: 6588.8779 - val_loss: 6768.0737\n",
      "Epoch 40/50\n",
      "1290/1290 [==============================] - ETA: 0s - loss: 6582.4209\n",
      "Epoch 40: val_loss did not improve from 6434.75049\n",
      "1290/1290 [==============================] - 179s 139ms/step - loss: 6582.4209 - val_loss: 6645.5010\n",
      "Epoch 41/50\n",
      "1290/1290 [==============================] - ETA: 0s - loss: 6599.0601\n",
      "Epoch 41: val_loss did not improve from 6434.75049\n",
      "1290/1290 [==============================] - 178s 138ms/step - loss: 6599.0601 - val_loss: 6713.0029\n",
      "Epoch 42/50\n",
      "1290/1290 [==============================] - ETA: 0s - loss: 6595.3843\n",
      "Epoch 42: val_loss did not improve from 6434.75049\n",
      "1290/1290 [==============================] - 188s 146ms/step - loss: 6595.3843 - val_loss: 6804.2817\n",
      "Epoch 43/50\n",
      "1290/1290 [==============================] - ETA: 0s - loss: 6586.5029\n",
      "Epoch 43: val_loss did not improve from 6434.75049\n",
      "1290/1290 [==============================] - 178s 138ms/step - loss: 6586.5029 - val_loss: 6749.3213\n",
      "Epoch 44/50\n",
      "1290/1290 [==============================] - ETA: 0s - loss: 6570.5591\n",
      "Epoch 44: val_loss did not improve from 6434.75049\n",
      "1290/1290 [==============================] - 179s 139ms/step - loss: 6570.5591 - val_loss: 6452.9976\n",
      "Epoch 45/50\n",
      "1290/1290 [==============================] - ETA: 0s - loss: 6558.0791\n",
      "Epoch 45: val_loss did not improve from 6434.75049\n",
      "1290/1290 [==============================] - 190s 148ms/step - loss: 6558.0791 - val_loss: 6661.6616\n",
      "Epoch 46/50\n",
      "1290/1290 [==============================] - ETA: 0s - loss: 6548.4927\n",
      "Epoch 46: val_loss did not improve from 6434.75049\n",
      "1290/1290 [==============================] - 184s 143ms/step - loss: 6548.4927 - val_loss: 6633.2407\n",
      "Epoch 47/50\n",
      "1290/1290 [==============================] - ETA: 0s - loss: 6557.1851\n",
      "Epoch 47: val_loss did not improve from 6434.75049\n",
      "1290/1290 [==============================] - 182s 141ms/step - loss: 6557.1851 - val_loss: 6724.7954\n",
      "Epoch 48/50\n",
      "1290/1290 [==============================] - ETA: 0s - loss: 6560.9058\n",
      "Epoch 48: val_loss did not improve from 6434.75049\n",
      "1290/1290 [==============================] - 183s 142ms/step - loss: 6560.9058 - val_loss: 6637.2197\n",
      "Epoch 49/50\n",
      "1290/1290 [==============================] - ETA: 0s - loss: 6543.5723\n",
      "Epoch 49: val_loss did not improve from 6434.75049\n",
      "1290/1290 [==============================] - 179s 139ms/step - loss: 6543.5723 - val_loss: 6574.9062\n",
      "Epoch 50/50\n",
      "1290/1290 [==============================] - ETA: 0s - loss: 6549.0659\n",
      "Epoch 50: val_loss did not improve from 6434.75049\n",
      "1290/1290 [==============================] - 178s 138ms/step - loss: 6549.0659 - val_loss: 6669.7510\n",
      "CPU times: user 3h 21min 30s, sys: 1min 51s, total: 3h 23min 21s\n",
      "Wall time: 2h 34min 56s\n"
     ]
    }
   ],
   "source": [
    "%%time\n",
    "checkpoint_path = \"training/cp.ckpt\"\n",
    "cp_callback = tf.keras.callbacks.ModelCheckpoint(filepath=checkpoint_path,\n",
    "                                                 save_weights_only=True,\n",
    "                                                 save_best_only=True,\n",
    "                                                 verbose=1)\n",
    "\n",
    "history = model.fit(\n",
    "    [x_train[numerical_variables],\n",
    "     x_train[categorical_variables]],\n",
    "     y_train,\n",
    "     verbose=1,\n",
    "     batch_size=256,\n",
    "     epochs=50,\n",
    "     callbacks=[cp_callback],\n",
    "     validation_data=([x_test[numerical_variables],\n",
    "                       x_test[categorical_variables]],\n",
    "                       y_test))"
   ]
  },
  {
   "cell_type": "code",
   "execution_count": null,
   "metadata": {
    "id": "BzI93sqnt7dI"
   },
   "outputs": [],
   "source": [
    "def plot_loss(history):\n",
    "  plt.plot(history.history['loss'], label='loss')\n",
    "  plt.plot(history.history['val_loss'], label='test_loss')\n",
    "  plt.xlabel('Epoch')\n",
    "  plt.ylabel(\"MSE [Sales Price]\")\n",
    "  plt.legend()\n",
    "  plt.grid(True)"
   ]
  },
  {
   "cell_type": "code",
   "execution_count": null,
   "metadata": {
    "colab": {
     "base_uri": "https://localhost:8080/",
     "height": 279
    },
    "id": "OUDE3iZKkNFO",
    "outputId": "754b061b-5c57-433b-af5a-39119073561d"
   },
   "outputs": [
    {
     "output_type": "display_data",
     "data": {
      "text/plain": [
       "<Figure size 432x288 with 1 Axes>"
      ],
      "image/png": "[encoded data removed]"
     },
     "metadata": {
      "needs_background": "light"
     }
    }
   ],
   "source": [
    "plot_loss(history)"
   ]
  },
  {
   "cell_type": "markdown",
   "source": [
    "Training and test losses are plotted above. The test loss exhibits considerable fluctuations, which are likely due to a relatively large batch size that was chosen because of limited computational resources. Nonetheless, if there is access to more computational power, it is advisable to train the model again using a reduced batch size.\n",
    "\n"
   ],
   "metadata": {
    "id": "dcNGJz_ImNWO"
   }
  },
  {
   "cell_type": "markdown",
   "source": [
    "# Testing"
   ],
   "metadata": {
    "id": "qVtGLQFYkKBz"
   }
  },
  {
   "cell_type": "markdown",
   "source": [
    "##### Saving and loading the model"
   ],
   "metadata": {
    "id": "3gqG9Y86jscD"
   }
  },
  {
   "cell_type": "code",
   "source": [
    "model.save(\"model\")"
   ],
   "metadata": {
    "id": "3XDvNOBvTkLK"
   },
   "execution_count": null,
   "outputs": []
  },
  {
   "cell_type": "code",
   "source": [
    "model = tf.keras.models.load_model(\"model\")"
   ],
   "metadata": {
    "id": "jClfsDLnUG9-"
   },
   "execution_count": 22,
   "outputs": []
  },
  {
   "cell_type": "markdown",
   "source": [
    "##### Evaluating performance"
   ],
   "metadata": {
    "id": "RIdTxwplmJWs"
   }
  },
  {
   "cell_type": "code",
   "execution_count": 23,
   "metadata": {
    "colab": {
     "base_uri": "https://localhost:8080/"
    },
    "id": "itysmuxlu4tK",
    "outputId": "cb42ade9-69dc-4fb9-d771-1d2036ab960b"
   },
   "outputs": [
    {
     "output_type": "stream",
     "name": "stdout",
     "text": [
      "Test MSE: 6669.7548828125\n"
     ]
    }
   ],
   "source": [
    "test_mse = model.evaluate([x_test[numerical_variables],\n",
    "                           x_test[categorical_variables]],\n",
    "                           y_test,\n",
    "                           verbose=0)\n",
    "\n",
    "print(\"Test MSE:\", test_mse)"
   ]
  },
  {
   "cell_type": "markdown",
   "source": [
    "In order to gain more insight into the nature of model's errors, they will be visualised."
   ],
   "metadata": {
    "id": "yVgZfwg5Rr52"
   }
  },
  {
   "cell_type": "code",
   "source": [
    "y_predictions = model.predict([x_test[numerical_variables],\n",
    "                               x_test[categorical_variables]],\n",
    "                               verbose=0).flatten()\n",
    "\n",
    "# randomly sample 150 data points to make the plot readable\n",
    "np.random.seed(0)\n",
    "indices = np.random.choice(len(y_predictions), 150, replace=False)\n",
    "\n",
    "a = plt.axes(aspect='equal')\n",
    "plt.scatter(y_test.to_numpy()[indices], y_predictions[indices])\n",
    "plt.gca().xaxis.set_major_locator(plt.MultipleLocator(30000))\n",
    "plt.xlabel(\"True Values [Sales Price]\")\n",
    "plt.ylabel(\"Predictions [Sales Price]\")\n",
    "lims = [0, np.max(y_test.to_numpy()[indices])]\n",
    "_ = plt.plot(lims, lims)"
   ],
   "metadata": {
    "colab": {
     "base_uri": "https://localhost:8080/",
     "height": 279
    },
    "id": "p2kYdviUrDDY",
    "outputId": "874ffd54-be52-4c3a-ece9-3bf6ad6d20f2"
   },
   "execution_count": 24,
   "outputs": [
    {
     "output_type": "display_data",
     "data": {
      "text/plain": [
       "<Figure size 432x288 with 1 Axes>"
      ],
      "image/png": "[encoded data removed]"
     },
     "metadata": {
      "needs_background": "light"
     }
    }
   ]
  },
  {
   "cell_type": "markdown",
   "source": [
    "As can be seen on the graph, model's predictions are reasonably accurate, especially when the true price is low."
   ],
   "metadata": {
    "id": "WQU21XD2s39J"
   }
  },
  {
   "cell_type": "code",
   "source": [
    "error = y_predictions - np.squeeze(y_test.to_numpy())\n",
    "\n",
    "plt.hist(error, bins=100)\n",
    "plt.gca().xaxis.set_major_locator(plt.MultipleLocator(30000))\n",
    "plt.xlabel(\"Prediction Error [Sales Price]\")\n",
    "_ = plt.ylabel(\"Count\")\n",
    "\n",
    "print(\"Mean error:\", np.mean(error))"
   ],
   "metadata": {
    "colab": {
     "base_uri": "https://localhost:8080/",
     "height": 297
    },
    "id": "jRjYtQlDszSe",
    "outputId": "ef87fee8-3b03-4c29-a076-f03b4861f36c"
   },
   "execution_count": 25,
   "outputs": [
    {
     "output_type": "stream",
     "name": "stdout",
     "text": [
      "Mean error: -2193.851516981694\n"
     ]
    },
    {
     "output_type": "display_data",
     "data": {
      "text/plain": [
       "<Figure size 432x288 with 1 Axes>"
      ],
      "image/png": "[encoded data removed]"
     },
     "metadata": {
      "needs_background": "light"
     }
    }
   ]
  },
  {
   "cell_type": "markdown",
   "source": [
    "It appears the the model is slightly biased towards underestimating the price."
   ],
   "metadata": {
    "id": "XN_BpFH8leJH"
   }
  }
 ],
 "metadata": {
  "colab": {
   "provenance": []
  },
  "kernelspec": {
   "display_name": "Python 3",
   "name": "python3"
  },
  "language_info": {
   "name": "python"
  }
 },
 "nbformat": 4,
 "nbformat_minor": 0
}
